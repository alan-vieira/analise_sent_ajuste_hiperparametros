{
 "cells": [
  {
   "cell_type": "code",
   "execution_count": 89,
   "metadata": {},
   "outputs": [],
   "source": [
    "import pandas as pd\n",
    "import numpy as np"
   ]
  },
  {
   "attachments": {},
   "cell_type": "markdown",
   "metadata": {},
   "source": [
    "## Carregando o dataset"
   ]
  },
  {
   "cell_type": "code",
   "execution_count": 90,
   "metadata": {},
   "outputs": [
    {
     "data": {
      "text/html": [
       "<div>\n",
       "<style scoped>\n",
       "    .dataframe tbody tr th:only-of-type {\n",
       "        vertical-align: middle;\n",
       "    }\n",
       "\n",
       "    .dataframe tbody tr th {\n",
       "        vertical-align: top;\n",
       "    }\n",
       "\n",
       "    .dataframe thead th {\n",
       "        text-align: right;\n",
       "    }\n",
       "</style>\n",
       "<table border=\"1\" class=\"dataframe\">\n",
       "  <thead>\n",
       "    <tr style=\"text-align: right;\">\n",
       "      <th></th>\n",
       "      <th>Unnamed: 0</th>\n",
       "      <th>created_at</th>\n",
       "      <th>id</th>\n",
       "      <th>id_str</th>\n",
       "      <th>text</th>\n",
       "      <th>truncated</th>\n",
       "      <th>entities</th>\n",
       "      <th>extended_entities</th>\n",
       "      <th>metadata</th>\n",
       "      <th>source</th>\n",
       "      <th>...</th>\n",
       "      <th>is_quote_status</th>\n",
       "      <th>retweet_count</th>\n",
       "      <th>favorite_count</th>\n",
       "      <th>favorited</th>\n",
       "      <th>retweeted</th>\n",
       "      <th>possibly_sensitive</th>\n",
       "      <th>lang</th>\n",
       "      <th>trend_t</th>\n",
       "      <th>score</th>\n",
       "      <th>sentiment</th>\n",
       "    </tr>\n",
       "  </thead>\n",
       "  <tbody>\n",
       "    <tr>\n",
       "      <th>0</th>\n",
       "      <td>0</td>\n",
       "      <td>Wed Feb 22 19:05:12 +0000 2023</td>\n",
       "      <td>1628470980925423620</td>\n",
       "      <td>1628470980925423620</td>\n",
       "      <td>Como atuam\\n#MoonlightChickenEP5 \\n#HEARTLIMING https://t.co/Tbp1Gdy7ll</td>\n",
       "      <td>False</td>\n",
       "      <td>{'hashtags': [{'text': 'MoonlightChickenEP5', 'indices': [11, 31]}, {'text': 'HEARTLIMING', 'indices': [33, 45]}], 'symbols': [], 'user_mentions': [], 'urls': [], 'media': [{'id': 1628470977553174528, 'id_str': '1628470977553174528', 'indices': [46, 69], 'media_url': 'http://pbs.twimg.com/media/Fpl9ueAXEAAMPCm.jpg', 'media_url_https': 'https://pbs.twimg.com/media/Fpl9ueAXEAAMPCm.jpg', 'url': 'https://t.co/Tbp1Gdy7ll', 'display_url': 'pic.twitter.com/Tbp1Gdy7ll', 'expanded_url': 'https://twitter.com/twayvl/status/1628470980925423620/photo/1', 'type': 'photo', 'sizes': {'thumb': {'w': 150, 'h': 150, 'resize': 'crop'}, 'medium': {'w': 736, 'h': 752, 'resize': 'fit'}, 'large': {'w': 736, 'h': 752, 'resize': 'fit'}, 'small': {'w': 666, 'h': 680, 'resize': 'fit'}}}]}</td>\n",
       "      <td>{'media': [{'id': 1628470977553174528, 'id_str': '1628470977553174528', 'indices': [46, 69], 'media_url': 'http://pbs.twimg.com/media/Fpl9ueAXEAAMPCm.jpg', 'media_url_https': 'https://pbs.twimg.com/media/Fpl9ueAXEAAMPCm.jpg', 'url': 'https://t.co/Tbp1Gdy7ll', 'display_url': 'pic.twitter.com/Tbp1Gdy7ll', 'expanded_url': 'https://twitter.com/twayvl/status/1628470980925423620/photo/1', 'type': 'photo', 'sizes': {'thumb': {'w': 150, 'h': 150, 'resize': 'crop'}, 'medium': {'w': 736, 'h': 752, 'resize': 'fit'}, 'large': {'w': 736, 'h': 752, 'resize': 'fit'}, 'small': {'w': 666, 'h': 680, 'resize': 'fit'}}}]}</td>\n",
       "      <td>{'iso_language_code': 'pt', 'result_type': 'recent'}</td>\n",
       "      <td>&lt;a href=\"http://twitter.com/download/android\" rel=\"nofollow\"&gt;Twitter for Android&lt;/a&gt;</td>\n",
       "      <td>...</td>\n",
       "      <td>False</td>\n",
       "      <td>0</td>\n",
       "      <td>0</td>\n",
       "      <td>False</td>\n",
       "      <td>False</td>\n",
       "      <td>False</td>\n",
       "      <td>pt</td>\n",
       "      <td>MoonlightChickenEP5</td>\n",
       "      <td>0.0000</td>\n",
       "      <td>1</td>\n",
       "    </tr>\n",
       "    <tr>\n",
       "      <th>1</th>\n",
       "      <td>1</td>\n",
       "      <td>Wed Feb 22 19:03:55 +0000 2023</td>\n",
       "      <td>1628470659444613122</td>\n",
       "      <td>1628470659444613122</td>\n",
       "      <td>Eles me fazem acreditar que, relacionamento entre amigos, não funciona, mais cedo ou mais tarde, vai desmoronar 😭.… https://t.co/P0Cjt7iTyU</td>\n",
       "      <td>True</td>\n",
       "      <td>{'hashtags': [], 'symbols': [], 'user_mentions': [], 'urls': [{'url': 'https://t.co/P0Cjt7iTyU', 'expanded_url': 'https://twitter.com/i/web/status/1628470659444613122', 'display_url': 'twitter.com/i/web/status/1…', 'indices': [116, 139]}]}</td>\n",
       "      <td>NaN</td>\n",
       "      <td>{'iso_language_code': 'pt', 'result_type': 'recent'}</td>\n",
       "      <td>&lt;a href=\"http://twitter.com/download/android\" rel=\"nofollow\"&gt;Twitter for Android&lt;/a&gt;</td>\n",
       "      <td>...</td>\n",
       "      <td>False</td>\n",
       "      <td>0</td>\n",
       "      <td>0</td>\n",
       "      <td>False</td>\n",
       "      <td>False</td>\n",
       "      <td>False</td>\n",
       "      <td>pt</td>\n",
       "      <td>MoonlightChickenEP5</td>\n",
       "      <td>0.2263</td>\n",
       "      <td>2</td>\n",
       "    </tr>\n",
       "    <tr>\n",
       "      <th>2</th>\n",
       "      <td>2</td>\n",
       "      <td>Wed Feb 22 19:03:34 +0000 2023</td>\n",
       "      <td>1628470570709925890</td>\n",
       "      <td>1628470570709925890</td>\n",
       "      <td>pq eu sinto q isso aqui vai dar muito briga?????? #MoonlightChickenEP5 https://t.co/WHzEhLJK62</td>\n",
       "      <td>False</td>\n",
       "      <td>{'hashtags': [{'text': 'MoonlightChickenEP5', 'indices': [50, 70]}], 'symbols': [], 'user_mentions': [], 'urls': [], 'media': [{'id': 1628470563600490502, 'id_str': '1628470563600490502', 'indices': [71, 94], 'media_url': 'http://pbs.twimg.com/media/Fpl9WX6WYAYh0xC.jpg', 'media_url_https': 'https://pbs.twimg.com/media/Fpl9WX6WYAYh0xC.jpg', 'url': 'https://t.co/WHzEhLJK62', 'display_url': 'pic.twitter.com/WHzEhLJK62', 'expanded_url': 'https://twitter.com/jmwpallet/status/1628470570709925890/photo/1', 'type': 'photo', 'sizes': {'thumb': {'w': 150, 'h': 150, 'resize': 'crop'}, 'large': {'w': 1600, 'h': 720, 'resize': 'fit'}, 'medium': {'w': 1200, 'h': 540, 'resize': 'fit'}, 'small': {'w': 680, 'h': 306, 'resize': 'fit'}}}]}</td>\n",
       "      <td>{'media': [{'id': 1628470563600490502, 'id_str': '1628470563600490502', 'indices': [71, 94], 'media_url': 'http://pbs.twimg.com/media/Fpl9WX6WYAYh0xC.jpg', 'media_url_https': 'https://pbs.twimg.com/media/Fpl9WX6WYAYh0xC.jpg', 'url': 'https://t.co/WHzEhLJK62', 'display_url': 'pic.twitter.com/WHzEhLJK62', 'expanded_url': 'https://twitter.com/jmwpallet/status/1628470570709925890/photo/1', 'type': 'photo', 'sizes': {'thumb': {'w': 150, 'h': 150, 'resize': 'crop'}, 'large': {'w': 1600, 'h': 720, 'resize': 'fit'}, 'medium': {'w': 1200, 'h': 540, 'resize': 'fit'}, 'small': {'w': 680, 'h': 306, 'resize': 'fit'}}}, {'id': 1628470567325122567, 'id_str': '1628470567325122567', 'indices': [71, 94], 'media_url': 'http://pbs.twimg.com/media/Fpl9WlyXwAcxdtt.jpg', 'media_url_https': 'https://pbs.twimg.com/media/Fpl9WlyXwAcxdtt.jpg', 'url': 'https://t.co/WHzEhLJK62', 'display_url': 'pic.twitter.com/WHzEhLJK62', 'expanded_url': 'https://twitter.com/jmwpallet/status/1628470570709925890/photo/1', 'type': 'photo', 'sizes': {'thumb': {'w': 150, 'h': 150, 'resize': 'crop'}, 'medium': {'w': 1200, 'h': 540, 'resize': 'fit'}, 'small': {'w': 680, 'h': 306, 'resize': 'fit'}, 'large': {'w': 1600, 'h': 720, 'resize': 'fit'}}}]}</td>\n",
       "      <td>{'iso_language_code': 'pt', 'result_type': 'recent'}</td>\n",
       "      <td>&lt;a href=\"http://twitter.com/download/android\" rel=\"nofollow\"&gt;Twitter for Android&lt;/a&gt;</td>\n",
       "      <td>...</td>\n",
       "      <td>False</td>\n",
       "      <td>0</td>\n",
       "      <td>0</td>\n",
       "      <td>False</td>\n",
       "      <td>False</td>\n",
       "      <td>False</td>\n",
       "      <td>pt</td>\n",
       "      <td>MoonlightChickenEP5</td>\n",
       "      <td>0.0000</td>\n",
       "      <td>1</td>\n",
       "    </tr>\n",
       "    <tr>\n",
       "      <th>3</th>\n",
       "      <td>3</td>\n",
       "      <td>Wed Feb 22 19:03:22 +0000 2023</td>\n",
       "      <td>1628470520084676610</td>\n",
       "      <td>1628470520084676610</td>\n",
       "      <td>O nome salvo dos dois nos Contatos. Fofos.🤏🏽\\n#MoonlightChickenEP5 https://t.co/u85vXyh2nM</td>\n",
       "      <td>False</td>\n",
       "      <td>{'hashtags': [{'text': 'MoonlightChickenEP5', 'indices': [45, 65]}], 'symbols': [], 'user_mentions': [], 'urls': [], 'media': [{'id': 1628470511100481538, 'id_str': '1628470511100481538', 'indices': [66, 89], 'media_url': 'http://pbs.twimg.com/media/Fpl9TUVX0AIJ7Dc.jpg', 'media_url_https': 'https://pbs.twimg.com/media/Fpl9TUVX0AIJ7Dc.jpg', 'url': 'https://t.co/u85vXyh2nM', 'display_url': 'pic.twitter.com/u85vXyh2nM', 'expanded_url': 'https://twitter.com/alineluizass/status/1628470520084676610/photo/1', 'type': 'photo', 'sizes': {'thumb': {'w': 150, 'h': 150, 'resize': 'crop'}, 'small': {'w': 680, 'h': 680, 'resize': 'fit'}, 'large': {'w': 1241, 'h': 1241, 'resize': 'fit'}, 'medium': {'w': 1200, 'h': 1200, 'resize': 'fit'}}}]}</td>\n",
       "      <td>{'media': [{'id': 1628470511100481538, 'id_str': '1628470511100481538', 'indices': [66, 89], 'media_url': 'http://pbs.twimg.com/media/Fpl9TUVX0AIJ7Dc.jpg', 'media_url_https': 'https://pbs.twimg.com/media/Fpl9TUVX0AIJ7Dc.jpg', 'url': 'https://t.co/u85vXyh2nM', 'display_url': 'pic.twitter.com/u85vXyh2nM', 'expanded_url': 'https://twitter.com/alineluizass/status/1628470520084676610/photo/1', 'type': 'photo', 'sizes': {'thumb': {'w': 150, 'h': 150, 'resize': 'crop'}, 'small': {'w': 680, 'h': 680, 'resize': 'fit'}, 'large': {'w': 1241, 'h': 1241, 'resize': 'fit'}, 'medium': {'w': 1200, 'h': 1200, 'resize': 'fit'}}}, {'id': 1628470511083593729, 'id_str': '1628470511083593729', 'indices': [66, 89], 'media_url': 'http://pbs.twimg.com/media/Fpl9TURWIAE4UrR.jpg', 'media_url_https': 'https://pbs.twimg.com/media/Fpl9TURWIAE4UrR.jpg', 'url': 'https://t.co/u85vXyh2nM', 'display_url': 'pic.twitter.com/u85vXyh2nM', 'expanded_url': 'https://twitter.com/alineluizass/status/1628470520084676610/photo/1', 'type': 'photo', 'sizes': {'thumb': {'w': 150, 'h': 150, 'resize': 'crop'}, 'small': {'w': 680, 'h': 680, 'resize': 'fit'}, 'large': {'w': 1241, 'h': 1241, 'resize': 'fit'}, 'medium': {'w': 1200, 'h': 1200, 'resize': 'fit'}}}]}</td>\n",
       "      <td>{'iso_language_code': 'pt', 'result_type': 'recent'}</td>\n",
       "      <td>&lt;a href=\"http://twitter.com/download/iphone\" rel=\"nofollow\"&gt;Twitter for iPhone&lt;/a&gt;</td>\n",
       "      <td>...</td>\n",
       "      <td>False</td>\n",
       "      <td>1</td>\n",
       "      <td>2</td>\n",
       "      <td>False</td>\n",
       "      <td>False</td>\n",
       "      <td>False</td>\n",
       "      <td>pt</td>\n",
       "      <td>MoonlightChickenEP5</td>\n",
       "      <td>0.0000</td>\n",
       "      <td>1</td>\n",
       "    </tr>\n",
       "    <tr>\n",
       "      <th>4</th>\n",
       "      <td>4</td>\n",
       "      <td>Wed Feb 22 19:03:10 +0000 2023</td>\n",
       "      <td>1628470471942455297</td>\n",
       "      <td>1628470471942455297</td>\n",
       "      <td>\"Os peixes grandes sempre comem os peixes pequenos\"\\n\"O importante e ele ter dinheiro, pq quem tem dinheiro sempre v… https://t.co/oGCAXGEqJ0</td>\n",
       "      <td>True</td>\n",
       "      <td>{'hashtags': [], 'symbols': [], 'user_mentions': [], 'urls': [{'url': 'https://t.co/oGCAXGEqJ0', 'expanded_url': 'https://twitter.com/i/web/status/1628470471942455297', 'display_url': 'twitter.com/i/web/status/1…', 'indices': [117, 140]}]}</td>\n",
       "      <td>NaN</td>\n",
       "      <td>{'iso_language_code': 'pt', 'result_type': 'recent'}</td>\n",
       "      <td>&lt;a href=\"http://twitter.com/download/android\" rel=\"nofollow\"&gt;Twitter for Android&lt;/a&gt;</td>\n",
       "      <td>...</td>\n",
       "      <td>False</td>\n",
       "      <td>0</td>\n",
       "      <td>0</td>\n",
       "      <td>False</td>\n",
       "      <td>False</td>\n",
       "      <td>NaN</td>\n",
       "      <td>pt</td>\n",
       "      <td>MoonlightChickenEP5</td>\n",
       "      <td>0.5423</td>\n",
       "      <td>2</td>\n",
       "    </tr>\n",
       "  </tbody>\n",
       "</table>\n",
       "<p>5 rows × 30 columns</p>\n",
       "</div>"
      ],
      "text/plain": [
       "   Unnamed: 0                      created_at                   id  \\\n",
       "0           0  Wed Feb 22 19:05:12 +0000 2023  1628470980925423620   \n",
       "1           1  Wed Feb 22 19:03:55 +0000 2023  1628470659444613122   \n",
       "2           2  Wed Feb 22 19:03:34 +0000 2023  1628470570709925890   \n",
       "3           3  Wed Feb 22 19:03:22 +0000 2023  1628470520084676610   \n",
       "4           4  Wed Feb 22 19:03:10 +0000 2023  1628470471942455297   \n",
       "\n",
       "                id_str  \\\n",
       "0  1628470980925423620   \n",
       "1  1628470659444613122   \n",
       "2  1628470570709925890   \n",
       "3  1628470520084676610   \n",
       "4  1628470471942455297   \n",
       "\n",
       "                                                                                                                                            text  \\\n",
       "0                                                                        Como atuam\\n#MoonlightChickenEP5 \\n#HEARTLIMING https://t.co/Tbp1Gdy7ll   \n",
       "1    Eles me fazem acreditar que, relacionamento entre amigos, não funciona, mais cedo ou mais tarde, vai desmoronar 😭.… https://t.co/P0Cjt7iTyU   \n",
       "2                                                 pq eu sinto q isso aqui vai dar muito briga?????? #MoonlightChickenEP5 https://t.co/WHzEhLJK62   \n",
       "3                                                     O nome salvo dos dois nos Contatos. Fofos.🤏🏽\\n#MoonlightChickenEP5 https://t.co/u85vXyh2nM   \n",
       "4  \"Os peixes grandes sempre comem os peixes pequenos\"\\n\"O importante e ele ter dinheiro, pq quem tem dinheiro sempre v… https://t.co/oGCAXGEqJ0   \n",
       "\n",
       "   truncated  \\\n",
       "0      False   \n",
       "1       True   \n",
       "2      False   \n",
       "3      False   \n",
       "4       True   \n",
       "\n",
       "                                                                                                                                                                                                                                                                                                                                                                                                                                                                                                                                                                                                                                                                                                                                                                                              entities  \\\n",
       "0  {'hashtags': [{'text': 'MoonlightChickenEP5', 'indices': [11, 31]}, {'text': 'HEARTLIMING', 'indices': [33, 45]}], 'symbols': [], 'user_mentions': [], 'urls': [], 'media': [{'id': 1628470977553174528, 'id_str': '1628470977553174528', 'indices': [46, 69], 'media_url': 'http://pbs.twimg.com/media/Fpl9ueAXEAAMPCm.jpg', 'media_url_https': 'https://pbs.twimg.com/media/Fpl9ueAXEAAMPCm.jpg', 'url': 'https://t.co/Tbp1Gdy7ll', 'display_url': 'pic.twitter.com/Tbp1Gdy7ll', 'expanded_url': 'https://twitter.com/twayvl/status/1628470980925423620/photo/1', 'type': 'photo', 'sizes': {'thumb': {'w': 150, 'h': 150, 'resize': 'crop'}, 'medium': {'w': 736, 'h': 752, 'resize': 'fit'}, 'large': {'w': 736, 'h': 752, 'resize': 'fit'}, 'small': {'w': 666, 'h': 680, 'resize': 'fit'}}}]}   \n",
       "1                                                                                                                                                                                                                                                                                                                                                                                                                                                                                                                                                      {'hashtags': [], 'symbols': [], 'user_mentions': [], 'urls': [{'url': 'https://t.co/P0Cjt7iTyU', 'expanded_url': 'https://twitter.com/i/web/status/1628470659444613122', 'display_url': 'twitter.com/i/web/status/1…', 'indices': [116, 139]}]}   \n",
       "2                                           {'hashtags': [{'text': 'MoonlightChickenEP5', 'indices': [50, 70]}], 'symbols': [], 'user_mentions': [], 'urls': [], 'media': [{'id': 1628470563600490502, 'id_str': '1628470563600490502', 'indices': [71, 94], 'media_url': 'http://pbs.twimg.com/media/Fpl9WX6WYAYh0xC.jpg', 'media_url_https': 'https://pbs.twimg.com/media/Fpl9WX6WYAYh0xC.jpg', 'url': 'https://t.co/WHzEhLJK62', 'display_url': 'pic.twitter.com/WHzEhLJK62', 'expanded_url': 'https://twitter.com/jmwpallet/status/1628470570709925890/photo/1', 'type': 'photo', 'sizes': {'thumb': {'w': 150, 'h': 150, 'resize': 'crop'}, 'large': {'w': 1600, 'h': 720, 'resize': 'fit'}, 'medium': {'w': 1200, 'h': 540, 'resize': 'fit'}, 'small': {'w': 680, 'h': 306, 'resize': 'fit'}}}]}   \n",
       "3                                      {'hashtags': [{'text': 'MoonlightChickenEP5', 'indices': [45, 65]}], 'symbols': [], 'user_mentions': [], 'urls': [], 'media': [{'id': 1628470511100481538, 'id_str': '1628470511100481538', 'indices': [66, 89], 'media_url': 'http://pbs.twimg.com/media/Fpl9TUVX0AIJ7Dc.jpg', 'media_url_https': 'https://pbs.twimg.com/media/Fpl9TUVX0AIJ7Dc.jpg', 'url': 'https://t.co/u85vXyh2nM', 'display_url': 'pic.twitter.com/u85vXyh2nM', 'expanded_url': 'https://twitter.com/alineluizass/status/1628470520084676610/photo/1', 'type': 'photo', 'sizes': {'thumb': {'w': 150, 'h': 150, 'resize': 'crop'}, 'small': {'w': 680, 'h': 680, 'resize': 'fit'}, 'large': {'w': 1241, 'h': 1241, 'resize': 'fit'}, 'medium': {'w': 1200, 'h': 1200, 'resize': 'fit'}}}]}   \n",
       "4                                                                                                                                                                                                                                                                                                                                                                                                                                                                                                                                                      {'hashtags': [], 'symbols': [], 'user_mentions': [], 'urls': [{'url': 'https://t.co/oGCAXGEqJ0', 'expanded_url': 'https://twitter.com/i/web/status/1628470471942455297', 'display_url': 'twitter.com/i/web/status/1…', 'indices': [117, 140]}]}   \n",
       "\n",
       "                                                                                                                                                                                                                                                                                                                                                                                                                                                                                                                                                                                                                                                                                                                                                                                                                                                                                                                                                                                                                                                                                                                                                                                                                                                             extended_entities  \\\n",
       "0                                                                                                                                                                                                                                                                                                                                                                                                                                                                                                                                                                                                                                            {'media': [{'id': 1628470977553174528, 'id_str': '1628470977553174528', 'indices': [46, 69], 'media_url': 'http://pbs.twimg.com/media/Fpl9ueAXEAAMPCm.jpg', 'media_url_https': 'https://pbs.twimg.com/media/Fpl9ueAXEAAMPCm.jpg', 'url': 'https://t.co/Tbp1Gdy7ll', 'display_url': 'pic.twitter.com/Tbp1Gdy7ll', 'expanded_url': 'https://twitter.com/twayvl/status/1628470980925423620/photo/1', 'type': 'photo', 'sizes': {'thumb': {'w': 150, 'h': 150, 'resize': 'crop'}, 'medium': {'w': 736, 'h': 752, 'resize': 'fit'}, 'large': {'w': 736, 'h': 752, 'resize': 'fit'}, 'small': {'w': 666, 'h': 680, 'resize': 'fit'}}}]}   \n",
       "1                                                                                                                                                                                                                                                                                                                                                                                                                                                                                                                                                                                                                                                                                                                                                                                                                                                                                                                                                                                                                                                                                                                                                                                                                                                                          NaN   \n",
       "2            {'media': [{'id': 1628470563600490502, 'id_str': '1628470563600490502', 'indices': [71, 94], 'media_url': 'http://pbs.twimg.com/media/Fpl9WX6WYAYh0xC.jpg', 'media_url_https': 'https://pbs.twimg.com/media/Fpl9WX6WYAYh0xC.jpg', 'url': 'https://t.co/WHzEhLJK62', 'display_url': 'pic.twitter.com/WHzEhLJK62', 'expanded_url': 'https://twitter.com/jmwpallet/status/1628470570709925890/photo/1', 'type': 'photo', 'sizes': {'thumb': {'w': 150, 'h': 150, 'resize': 'crop'}, 'large': {'w': 1600, 'h': 720, 'resize': 'fit'}, 'medium': {'w': 1200, 'h': 540, 'resize': 'fit'}, 'small': {'w': 680, 'h': 306, 'resize': 'fit'}}}, {'id': 1628470567325122567, 'id_str': '1628470567325122567', 'indices': [71, 94], 'media_url': 'http://pbs.twimg.com/media/Fpl9WlyXwAcxdtt.jpg', 'media_url_https': 'https://pbs.twimg.com/media/Fpl9WlyXwAcxdtt.jpg', 'url': 'https://t.co/WHzEhLJK62', 'display_url': 'pic.twitter.com/WHzEhLJK62', 'expanded_url': 'https://twitter.com/jmwpallet/status/1628470570709925890/photo/1', 'type': 'photo', 'sizes': {'thumb': {'w': 150, 'h': 150, 'resize': 'crop'}, 'medium': {'w': 1200, 'h': 540, 'resize': 'fit'}, 'small': {'w': 680, 'h': 306, 'resize': 'fit'}, 'large': {'w': 1600, 'h': 720, 'resize': 'fit'}}}]}   \n",
       "3  {'media': [{'id': 1628470511100481538, 'id_str': '1628470511100481538', 'indices': [66, 89], 'media_url': 'http://pbs.twimg.com/media/Fpl9TUVX0AIJ7Dc.jpg', 'media_url_https': 'https://pbs.twimg.com/media/Fpl9TUVX0AIJ7Dc.jpg', 'url': 'https://t.co/u85vXyh2nM', 'display_url': 'pic.twitter.com/u85vXyh2nM', 'expanded_url': 'https://twitter.com/alineluizass/status/1628470520084676610/photo/1', 'type': 'photo', 'sizes': {'thumb': {'w': 150, 'h': 150, 'resize': 'crop'}, 'small': {'w': 680, 'h': 680, 'resize': 'fit'}, 'large': {'w': 1241, 'h': 1241, 'resize': 'fit'}, 'medium': {'w': 1200, 'h': 1200, 'resize': 'fit'}}}, {'id': 1628470511083593729, 'id_str': '1628470511083593729', 'indices': [66, 89], 'media_url': 'http://pbs.twimg.com/media/Fpl9TURWIAE4UrR.jpg', 'media_url_https': 'https://pbs.twimg.com/media/Fpl9TURWIAE4UrR.jpg', 'url': 'https://t.co/u85vXyh2nM', 'display_url': 'pic.twitter.com/u85vXyh2nM', 'expanded_url': 'https://twitter.com/alineluizass/status/1628470520084676610/photo/1', 'type': 'photo', 'sizes': {'thumb': {'w': 150, 'h': 150, 'resize': 'crop'}, 'small': {'w': 680, 'h': 680, 'resize': 'fit'}, 'large': {'w': 1241, 'h': 1241, 'resize': 'fit'}, 'medium': {'w': 1200, 'h': 1200, 'resize': 'fit'}}}]}   \n",
       "4                                                                                                                                                                                                                                                                                                                                                                                                                                                                                                                                                                                                                                                                                                                                                                                                                                                                                                                                                                                                                                                                                                                                                                                                                                                                          NaN   \n",
       "\n",
       "                                               metadata  \\\n",
       "0  {'iso_language_code': 'pt', 'result_type': 'recent'}   \n",
       "1  {'iso_language_code': 'pt', 'result_type': 'recent'}   \n",
       "2  {'iso_language_code': 'pt', 'result_type': 'recent'}   \n",
       "3  {'iso_language_code': 'pt', 'result_type': 'recent'}   \n",
       "4  {'iso_language_code': 'pt', 'result_type': 'recent'}   \n",
       "\n",
       "                                                                                 source  \\\n",
       "0  <a href=\"http://twitter.com/download/android\" rel=\"nofollow\">Twitter for Android</a>   \n",
       "1  <a href=\"http://twitter.com/download/android\" rel=\"nofollow\">Twitter for Android</a>   \n",
       "2  <a href=\"http://twitter.com/download/android\" rel=\"nofollow\">Twitter for Android</a>   \n",
       "3    <a href=\"http://twitter.com/download/iphone\" rel=\"nofollow\">Twitter for iPhone</a>   \n",
       "4  <a href=\"http://twitter.com/download/android\" rel=\"nofollow\">Twitter for Android</a>   \n",
       "\n",
       "   ...  is_quote_status  retweet_count  favorite_count  favorited retweeted  \\\n",
       "0  ...            False              0               0      False     False   \n",
       "1  ...            False              0               0      False     False   \n",
       "2  ...            False              0               0      False     False   \n",
       "3  ...            False              1               2      False     False   \n",
       "4  ...            False              0               0      False     False   \n",
       "\n",
       "  possibly_sensitive  lang              trend_t   score  sentiment  \n",
       "0              False    pt  MoonlightChickenEP5  0.0000          1  \n",
       "1              False    pt  MoonlightChickenEP5  0.2263          2  \n",
       "2              False    pt  MoonlightChickenEP5  0.0000          1  \n",
       "3              False    pt  MoonlightChickenEP5  0.0000          1  \n",
       "4                NaN    pt  MoonlightChickenEP5  0.5423          2  \n",
       "\n",
       "[5 rows x 30 columns]"
      ]
     },
     "execution_count": 90,
     "metadata": {},
     "output_type": "execute_result"
    }
   ],
   "source": [
    "df = pd.read_csv('tweets_raw_sem_duplicata.csv')\n",
    "df.head()"
   ]
  },
  {
   "cell_type": "code",
   "execution_count": 91,
   "metadata": {},
   "outputs": [
    {
     "data": {
      "text/html": [
       "<div>\n",
       "<style scoped>\n",
       "    .dataframe tbody tr th:only-of-type {\n",
       "        vertical-align: middle;\n",
       "    }\n",
       "\n",
       "    .dataframe tbody tr th {\n",
       "        vertical-align: top;\n",
       "    }\n",
       "\n",
       "    .dataframe thead th {\n",
       "        text-align: right;\n",
       "    }\n",
       "</style>\n",
       "<table border=\"1\" class=\"dataframe\">\n",
       "  <thead>\n",
       "    <tr style=\"text-align: right;\">\n",
       "      <th></th>\n",
       "      <th>text</th>\n",
       "      <th>trend_t</th>\n",
       "      <th>sentiment</th>\n",
       "    </tr>\n",
       "  </thead>\n",
       "  <tbody>\n",
       "    <tr>\n",
       "      <th>0</th>\n",
       "      <td>Como atuam\\n#MoonlightChickenEP5 \\n#HEARTLIMING https://t.co/Tbp1Gdy7ll</td>\n",
       "      <td>MoonlightChickenEP5</td>\n",
       "      <td>1</td>\n",
       "    </tr>\n",
       "    <tr>\n",
       "      <th>1</th>\n",
       "      <td>Eles me fazem acreditar que, relacionamento entre amigos, não funciona, mais cedo ou mais tarde, vai desmoronar 😭.… https://t.co/P0Cjt7iTyU</td>\n",
       "      <td>MoonlightChickenEP5</td>\n",
       "      <td>2</td>\n",
       "    </tr>\n",
       "    <tr>\n",
       "      <th>2</th>\n",
       "      <td>pq eu sinto q isso aqui vai dar muito briga?????? #MoonlightChickenEP5 https://t.co/WHzEhLJK62</td>\n",
       "      <td>MoonlightChickenEP5</td>\n",
       "      <td>1</td>\n",
       "    </tr>\n",
       "    <tr>\n",
       "      <th>3</th>\n",
       "      <td>O nome salvo dos dois nos Contatos. Fofos.🤏🏽\\n#MoonlightChickenEP5 https://t.co/u85vXyh2nM</td>\n",
       "      <td>MoonlightChickenEP5</td>\n",
       "      <td>1</td>\n",
       "    </tr>\n",
       "    <tr>\n",
       "      <th>4</th>\n",
       "      <td>\"Os peixes grandes sempre comem os peixes pequenos\"\\n\"O importante e ele ter dinheiro, pq quem tem dinheiro sempre v… https://t.co/oGCAXGEqJ0</td>\n",
       "      <td>MoonlightChickenEP5</td>\n",
       "      <td>2</td>\n",
       "    </tr>\n",
       "  </tbody>\n",
       "</table>\n",
       "</div>"
      ],
      "text/plain": [
       "                                                                                                                                            text  \\\n",
       "0                                                                        Como atuam\\n#MoonlightChickenEP5 \\n#HEARTLIMING https://t.co/Tbp1Gdy7ll   \n",
       "1    Eles me fazem acreditar que, relacionamento entre amigos, não funciona, mais cedo ou mais tarde, vai desmoronar 😭.… https://t.co/P0Cjt7iTyU   \n",
       "2                                                 pq eu sinto q isso aqui vai dar muito briga?????? #MoonlightChickenEP5 https://t.co/WHzEhLJK62   \n",
       "3                                                     O nome salvo dos dois nos Contatos. Fofos.🤏🏽\\n#MoonlightChickenEP5 https://t.co/u85vXyh2nM   \n",
       "4  \"Os peixes grandes sempre comem os peixes pequenos\"\\n\"O importante e ele ter dinheiro, pq quem tem dinheiro sempre v… https://t.co/oGCAXGEqJ0   \n",
       "\n",
       "               trend_t  sentiment  \n",
       "0  MoonlightChickenEP5          1  \n",
       "1  MoonlightChickenEP5          2  \n",
       "2  MoonlightChickenEP5          1  \n",
       "3  MoonlightChickenEP5          1  \n",
       "4  MoonlightChickenEP5          2  "
      ]
     },
     "execution_count": 91,
     "metadata": {},
     "output_type": "execute_result"
    }
   ],
   "source": [
    "# separando apenas as variáveis que quero visualizar\n",
    "tweet_df = df[['text','trend_t','sentiment']]\n",
    "tweet_df.head()"
   ]
  },
  {
   "cell_type": "code",
   "execution_count": 92,
   "metadata": {},
   "outputs": [
    {
     "data": {
      "text/plain": [
       "1    6435\n",
       "0    6029\n",
       "2    4912\n",
       "Name: sentiment, dtype: int64"
      ]
     },
     "execution_count": 92,
     "metadata": {},
     "output_type": "execute_result"
    }
   ],
   "source": [
    "tweet_df['sentiment'].value_counts()"
   ]
  },
  {
   "cell_type": "code",
   "execution_count": 93,
   "metadata": {},
   "outputs": [
    {
     "data": {
      "image/png": "[encoded data removed]",
      "text/plain": [
       "<Figure size 640x480 with 1 Axes>"
      ]
     },
     "metadata": {},
     "output_type": "display_data"
    }
   ],
   "source": [
    "# visualizando os dados em gráfico\n",
    "import matplotlib.pyplot as plt\n",
    "import seaborn as sns\n",
    "\n",
    "sns.countplot(x=tweet_df.sentiment)\n",
    "plt.xlabel('class')\n",
    "plt.ylabel('tweets')\n",
    "plt.show();"
   ]
  },
  {
   "attachments": {},
   "cell_type": "markdown",
   "metadata": {},
   "source": [
    "## Efentuando a limpeza dos dados"
   ]
  },
  {
   "cell_type": "code",
   "execution_count": 94,
   "metadata": {},
   "outputs": [
    {
     "name": "stdout",
     "output_type": "stream",
     "text": [
      "Requirement already satisfied: nltk in c:\\users\\alsvi\\notebooks\\analise_sent_ajuste_hiper_yt\\venv\\lib\\site-packages (3.8.1)\n",
      "Requirement already satisfied: tqdm in c:\\users\\alsvi\\notebooks\\analise_sent_ajuste_hiper_yt\\venv\\lib\\site-packages (from nltk) (4.64.1)\n",
      "Requirement already satisfied: joblib in c:\\users\\alsvi\\notebooks\\analise_sent_ajuste_hiper_yt\\venv\\lib\\site-packages (from nltk) (1.2.0)\n",
      "Requirement already satisfied: click in c:\\users\\alsvi\\notebooks\\analise_sent_ajuste_hiper_yt\\venv\\lib\\site-packages (from nltk) (8.1.3)\n",
      "Requirement already satisfied: regex>=2021.8.3 in c:\\users\\alsvi\\notebooks\\analise_sent_ajuste_hiper_yt\\venv\\lib\\site-packages (from nltk) (2022.10.31)\n",
      "Requirement already satisfied: colorama in c:\\users\\alsvi\\notebooks\\analise_sent_ajuste_hiper_yt\\venv\\lib\\site-packages (from click->nltk) (0.4.6)\n",
      "Note: you may need to restart the kernel to use updated packages.\n"
     ]
    }
   ],
   "source": [
    "%pip install nltk"
   ]
  },
  {
   "cell_type": "code",
   "execution_count": 95,
   "metadata": {},
   "outputs": [
    {
     "name": "stderr",
     "output_type": "stream",
     "text": [
      "C:\\Users\\alsvi\\AppData\\Local\\Programs\\Python\\Python310\\lib\\runpy.py:126: RuntimeWarning: 'nltk.downloader' found in sys.modules after import of package 'nltk', but prior to execution of 'nltk.downloader'; this may result in unpredictable behaviour\n",
      "  warn(RuntimeWarning(msg))\n",
      "[nltk_data] Downloading package stopwords to\n",
      "[nltk_data]     C:\\Users\\alsvi\\AppData\\Roaming\\nltk_data...\n",
      "[nltk_data]   Package stopwords is already up-to-date!\n"
     ]
    }
   ],
   "source": [
    "# baixando as stopwords\n",
    "!python -m nltk.downloader stopwords"
   ]
  },
  {
   "cell_type": "code",
   "execution_count": 96,
   "metadata": {},
   "outputs": [],
   "source": [
    "import nltk\n",
    "import re"
   ]
  },
  {
   "cell_type": "code",
   "execution_count": 97,
   "metadata": {},
   "outputs": [],
   "source": [
    "def remove_caracteres(instancia):\n",
    "    ''' \n",
    "    Função de remoção de caracteres:\n",
    "    'http\\S+' - remove url \n",
    "    lower() - tranforma o texto em minúsculo\n",
    "    '[0-9]+' - remove números\n",
    "    '[^\\w\\s]' -  remove pontuação\n",
    "    '[!#$%^&*()]' - remove caractéres espaciais\n",
    "    '''\n",
    "    instancia = re.sub(r'http\\S+', '', instancia).lower()\n",
    "    instancia = re.sub(r'[0-9]+', '', instancia)\n",
    "    instancia = re.sub(r'[^\\w\\s]', '', instancia)\n",
    "    instancia = re.sub('[!#$%^&*()]', '', instancia)\n",
    "    stopwords = set(nltk.corpus.stopwords.words('portuguese'))\n",
    "    palavras = [i for i in instancia.split() if not i in stopwords]\n",
    "    return (' '.join(palavras))"
   ]
  },
  {
   "cell_type": "code",
   "execution_count": 98,
   "metadata": {},
   "outputs": [],
   "source": [
    "def remove_emojis(string):\n",
    "    '''Função que remove emojis'''\n",
    "    emoji_pattern = re.compile(\"[\"\n",
    "                                u\"\\U0001F600-\\U0001F64F\"  # emoticons\n",
    "                                u\"\\U0001F300-\\U0001F5FF\"  # symbols & pictographs\n",
    "                                u\"\\U0001F680-\\U0001F6FF\"  # transport & map symbols\n",
    "                                u\"\\U0001F1E0-\\U0001F1FF\"  # flags (iOS)\n",
    "                                u\"\\U00002500-\\U00002BEF\"  # chinese char\n",
    "                                u\"\\U00002702-\\U000027B0\"\n",
    "                                u\"\\U00002702-\\U000027B0\"\n",
    "                                u\"\\U000024C2-\\U0001F251\"\n",
    "                                u\"\\U0001f926-\\U0001f937\"\n",
    "                                u\"\\U00010000-\\U0010ffff\"\n",
    "                                u\"\\u2640-\\u2642\"\n",
    "                                u\"\\u2600-\\u2B55\"\n",
    "                                u\"\\u200d\"\n",
    "                                u\"\\u23cf\"\n",
    "                                u\"\\u23e9\"\n",
    "                                u\"\\u231a\"\n",
    "                                u\"\\ufe0f\"  # dingbats\n",
    "                                u\"\\u3030\"\n",
    "                                \"]+\", flags=re.UNICODE)\n",
    "    return emoji_pattern.sub(r'', string)"
   ]
  },
  {
   "cell_type": "code",
   "execution_count": 99,
   "metadata": {},
   "outputs": [
    {
     "name": "stderr",
     "output_type": "stream",
     "text": [
      "C:\\Users\\alsvi\\AppData\\Local\\Temp\\ipykernel_3376\\1715463276.py:2: SettingWithCopyWarning: \n",
      "A value is trying to be set on a copy of a slice from a DataFrame.\n",
      "Try using .loc[row_indexer,col_indexer] = value instead\n",
      "\n",
      "See the caveats in the documentation: https://pandas.pydata.org/pandas-docs/stable/user_guide/indexing.html#returning-a-view-versus-a-copy\n",
      "  tweet_df['text_clean'] = tweet_df['text'].apply(remove_caracteres).apply(remove_emojis)\n"
     ]
    },
    {
     "data": {
      "text/html": [
       "<div>\n",
       "<style scoped>\n",
       "    .dataframe tbody tr th:only-of-type {\n",
       "        vertical-align: middle;\n",
       "    }\n",
       "\n",
       "    .dataframe tbody tr th {\n",
       "        vertical-align: top;\n",
       "    }\n",
       "\n",
       "    .dataframe thead th {\n",
       "        text-align: right;\n",
       "    }\n",
       "</style>\n",
       "<table border=\"1\" class=\"dataframe\">\n",
       "  <thead>\n",
       "    <tr style=\"text-align: right;\">\n",
       "      <th></th>\n",
       "      <th>text</th>\n",
       "      <th>trend_t</th>\n",
       "      <th>sentiment</th>\n",
       "      <th>text_clean</th>\n",
       "    </tr>\n",
       "  </thead>\n",
       "  <tbody>\n",
       "    <tr>\n",
       "      <th>0</th>\n",
       "      <td>Como atuam\\n#MoonlightChickenEP5 \\n#HEARTLIMING https://t.co/Tbp1Gdy7ll</td>\n",
       "      <td>MoonlightChickenEP5</td>\n",
       "      <td>1</td>\n",
       "      <td>atuam moonlightchickenep heartliming</td>\n",
       "    </tr>\n",
       "    <tr>\n",
       "      <th>1</th>\n",
       "      <td>Eles me fazem acreditar que, relacionamento entre amigos, não funciona, mais cedo ou mais tarde, vai desmoronar 😭.… https://t.co/P0Cjt7iTyU</td>\n",
       "      <td>MoonlightChickenEP5</td>\n",
       "      <td>2</td>\n",
       "      <td>fazem acreditar relacionamento amigos funciona cedo tarde vai desmoronar</td>\n",
       "    </tr>\n",
       "    <tr>\n",
       "      <th>2</th>\n",
       "      <td>pq eu sinto q isso aqui vai dar muito briga?????? #MoonlightChickenEP5 https://t.co/WHzEhLJK62</td>\n",
       "      <td>MoonlightChickenEP5</td>\n",
       "      <td>1</td>\n",
       "      <td>pq sinto q aqui vai dar briga moonlightchickenep</td>\n",
       "    </tr>\n",
       "    <tr>\n",
       "      <th>3</th>\n",
       "      <td>O nome salvo dos dois nos Contatos. Fofos.🤏🏽\\n#MoonlightChickenEP5 https://t.co/u85vXyh2nM</td>\n",
       "      <td>MoonlightChickenEP5</td>\n",
       "      <td>1</td>\n",
       "      <td>nome salvo dois contatos fofos moonlightchickenep</td>\n",
       "    </tr>\n",
       "    <tr>\n",
       "      <th>4</th>\n",
       "      <td>\"Os peixes grandes sempre comem os peixes pequenos\"\\n\"O importante e ele ter dinheiro, pq quem tem dinheiro sempre v… https://t.co/oGCAXGEqJ0</td>\n",
       "      <td>MoonlightChickenEP5</td>\n",
       "      <td>2</td>\n",
       "      <td>peixes grandes sempre comem peixes pequenos importante ter dinheiro pq dinheiro sempre v</td>\n",
       "    </tr>\n",
       "  </tbody>\n",
       "</table>\n",
       "</div>"
      ],
      "text/plain": [
       "                                                                                                                                            text  \\\n",
       "0                                                                        Como atuam\\n#MoonlightChickenEP5 \\n#HEARTLIMING https://t.co/Tbp1Gdy7ll   \n",
       "1    Eles me fazem acreditar que, relacionamento entre amigos, não funciona, mais cedo ou mais tarde, vai desmoronar 😭.… https://t.co/P0Cjt7iTyU   \n",
       "2                                                 pq eu sinto q isso aqui vai dar muito briga?????? #MoonlightChickenEP5 https://t.co/WHzEhLJK62   \n",
       "3                                                     O nome salvo dos dois nos Contatos. Fofos.🤏🏽\\n#MoonlightChickenEP5 https://t.co/u85vXyh2nM   \n",
       "4  \"Os peixes grandes sempre comem os peixes pequenos\"\\n\"O importante e ele ter dinheiro, pq quem tem dinheiro sempre v… https://t.co/oGCAXGEqJ0   \n",
       "\n",
       "               trend_t  sentiment  \\\n",
       "0  MoonlightChickenEP5          1   \n",
       "1  MoonlightChickenEP5          2   \n",
       "2  MoonlightChickenEP5          1   \n",
       "3  MoonlightChickenEP5          1   \n",
       "4  MoonlightChickenEP5          2   \n",
       "\n",
       "                                                                                 text_clean  \n",
       "0                                                      atuam moonlightchickenep heartliming  \n",
       "1                  fazem acreditar relacionamento amigos funciona cedo tarde vai desmoronar  \n",
       "2                                          pq sinto q aqui vai dar briga moonlightchickenep  \n",
       "3                                         nome salvo dois contatos fofos moonlightchickenep  \n",
       "4  peixes grandes sempre comem peixes pequenos importante ter dinheiro pq dinheiro sempre v  "
      ]
     },
     "execution_count": 99,
     "metadata": {},
     "output_type": "execute_result"
    }
   ],
   "source": [
    "# aplicando a limpeza dos dados\n",
    "tweet_df['text_clean'] = tweet_df['text'].apply(remove_caracteres).apply(remove_emojis)\n",
    "\n",
    "pd.set_option('display.max_colwidth', None)\n",
    "tweet_df.head()"
   ]
  },
  {
   "attachments": {},
   "cell_type": "markdown",
   "metadata": {},
   "source": [
    "## Lematização com Spacy"
   ]
  },
  {
   "cell_type": "code",
   "execution_count": 100,
   "metadata": {},
   "outputs": [
    {
     "name": "stdout",
     "output_type": "stream",
     "text": [
      "Requirement already satisfied: pip in c:\\users\\alsvi\\notebooks\\analise_sent_ajuste_hiper_yt\\venv\\lib\\site-packages (23.0.1)\n",
      "Requirement already satisfied: setuptools in c:\\users\\alsvi\\notebooks\\analise_sent_ajuste_hiper_yt\\venv\\lib\\site-packages (67.4.0)\n",
      "Requirement already satisfied: wheel in c:\\users\\alsvi\\notebooks\\analise_sent_ajuste_hiper_yt\\venv\\lib\\site-packages (0.38.4)\n",
      "Note: you may need to restart the kernel to use updated packages.\n",
      "Requirement already satisfied: spacy in c:\\users\\alsvi\\notebooks\\analise_sent_ajuste_hiper_yt\\venv\\lib\\site-packages (3.5.0)\n",
      "Requirement already satisfied: spacy-legacy<3.1.0,>=3.0.11 in c:\\users\\alsvi\\notebooks\\analise_sent_ajuste_hiper_yt\\venv\\lib\\site-packages (from spacy) (3.0.12)\n",
      "Requirement already satisfied: setuptools in c:\\users\\alsvi\\notebooks\\analise_sent_ajuste_hiper_yt\\venv\\lib\\site-packages (from spacy) (67.4.0)\n",
      "Requirement already satisfied: smart-open<7.0.0,>=5.2.1 in c:\\users\\alsvi\\notebooks\\analise_sent_ajuste_hiper_yt\\venv\\lib\\site-packages (from spacy) (6.3.0)\n",
      "Requirement already satisfied: thinc<8.2.0,>=8.1.0 in c:\\users\\alsvi\\notebooks\\analise_sent_ajuste_hiper_yt\\venv\\lib\\site-packages (from spacy) (8.1.7)\n",
      "Requirement already satisfied: cymem<2.1.0,>=2.0.2 in c:\\users\\alsvi\\notebooks\\analise_sent_ajuste_hiper_yt\\venv\\lib\\site-packages (from spacy) (2.0.7)\n",
      "Requirement already satisfied: langcodes<4.0.0,>=3.2.0 in c:\\users\\alsvi\\notebooks\\analise_sent_ajuste_hiper_yt\\venv\\lib\\site-packages (from spacy) (3.3.0)\n",
      "Requirement already satisfied: pydantic!=1.8,!=1.8.1,<1.11.0,>=1.7.4 in c:\\users\\alsvi\\notebooks\\analise_sent_ajuste_hiper_yt\\venv\\lib\\site-packages (from spacy) (1.10.5)\n",
      "Requirement already satisfied: preshed<3.1.0,>=3.0.2 in c:\\users\\alsvi\\notebooks\\analise_sent_ajuste_hiper_yt\\venv\\lib\\site-packages (from spacy) (3.0.8)\n",
      "Requirement already satisfied: jinja2 in c:\\users\\alsvi\\notebooks\\analise_sent_ajuste_hiper_yt\\venv\\lib\\site-packages (from spacy) (3.1.2)\n",
      "Requirement already satisfied: spacy-loggers<2.0.0,>=1.0.0 in c:\\users\\alsvi\\notebooks\\analise_sent_ajuste_hiper_yt\\venv\\lib\\site-packages (from spacy) (1.0.4)\n",
      "Requirement already satisfied: pathy>=0.10.0 in c:\\users\\alsvi\\notebooks\\analise_sent_ajuste_hiper_yt\\venv\\lib\\site-packages (from spacy) (0.10.1)\n",
      "Requirement already satisfied: tqdm<5.0.0,>=4.38.0 in c:\\users\\alsvi\\notebooks\\analise_sent_ajuste_hiper_yt\\venv\\lib\\site-packages (from spacy) (4.64.1)\n",
      "Requirement already satisfied: packaging>=20.0 in c:\\users\\alsvi\\notebooks\\analise_sent_ajuste_hiper_yt\\venv\\lib\\site-packages (from spacy) (23.0)\n",
      "Requirement already satisfied: numpy>=1.15.0 in c:\\users\\alsvi\\notebooks\\analise_sent_ajuste_hiper_yt\\venv\\lib\\site-packages (from spacy) (1.24.2)\n",
      "Requirement already satisfied: requests<3.0.0,>=2.13.0 in c:\\users\\alsvi\\notebooks\\analise_sent_ajuste_hiper_yt\\venv\\lib\\site-packages (from spacy) (2.28.2)\n",
      "Requirement already satisfied: wasabi<1.2.0,>=0.9.1 in c:\\users\\alsvi\\notebooks\\analise_sent_ajuste_hiper_yt\\venv\\lib\\site-packages (from spacy) (1.1.1)\n",
      "Requirement already satisfied: srsly<3.0.0,>=2.4.3 in c:\\users\\alsvi\\notebooks\\analise_sent_ajuste_hiper_yt\\venv\\lib\\site-packages (from spacy) (2.4.5)\n",
      "Requirement already satisfied: catalogue<2.1.0,>=2.0.6 in c:\\users\\alsvi\\notebooks\\analise_sent_ajuste_hiper_yt\\venv\\lib\\site-packages (from spacy) (2.0.8)\n",
      "Requirement already satisfied: murmurhash<1.1.0,>=0.28.0 in c:\\users\\alsvi\\notebooks\\analise_sent_ajuste_hiper_yt\\venv\\lib\\site-packages (from spacy) (1.0.9)\n",
      "Requirement already satisfied: typer<0.8.0,>=0.3.0 in c:\\users\\alsvi\\notebooks\\analise_sent_ajuste_hiper_yt\\venv\\lib\\site-packages (from spacy) (0.7.0)\n",
      "Requirement already satisfied: typing-extensions>=4.2.0 in c:\\users\\alsvi\\notebooks\\analise_sent_ajuste_hiper_yt\\venv\\lib\\site-packages (from pydantic!=1.8,!=1.8.1,<1.11.0,>=1.7.4->spacy) (4.5.0)\n",
      "Requirement already satisfied: idna<4,>=2.5 in c:\\users\\alsvi\\notebooks\\analise_sent_ajuste_hiper_yt\\venv\\lib\\site-packages (from requests<3.0.0,>=2.13.0->spacy) (3.4)\n",
      "Requirement already satisfied: charset-normalizer<4,>=2 in c:\\users\\alsvi\\notebooks\\analise_sent_ajuste_hiper_yt\\venv\\lib\\site-packages (from requests<3.0.0,>=2.13.0->spacy) (3.0.1)\n",
      "Requirement already satisfied: certifi>=2017.4.17 in c:\\users\\alsvi\\notebooks\\analise_sent_ajuste_hiper_yt\\venv\\lib\\site-packages (from requests<3.0.0,>=2.13.0->spacy) (2022.12.7)\n",
      "Requirement already satisfied: urllib3<1.27,>=1.21.1 in c:\\users\\alsvi\\notebooks\\analise_sent_ajuste_hiper_yt\\venv\\lib\\site-packages (from requests<3.0.0,>=2.13.0->spacy) (1.26.14)\n",
      "Requirement already satisfied: blis<0.8.0,>=0.7.8 in c:\\users\\alsvi\\notebooks\\analise_sent_ajuste_hiper_yt\\venv\\lib\\site-packages (from thinc<8.2.0,>=8.1.0->spacy) (0.7.9)\n",
      "Requirement already satisfied: confection<1.0.0,>=0.0.1 in c:\\users\\alsvi\\notebooks\\analise_sent_ajuste_hiper_yt\\venv\\lib\\site-packages (from thinc<8.2.0,>=8.1.0->spacy) (0.0.4)\n",
      "Requirement already satisfied: colorama in c:\\users\\alsvi\\notebooks\\analise_sent_ajuste_hiper_yt\\venv\\lib\\site-packages (from tqdm<5.0.0,>=4.38.0->spacy) (0.4.6)\n",
      "Requirement already satisfied: click<9.0.0,>=7.1.1 in c:\\users\\alsvi\\notebooks\\analise_sent_ajuste_hiper_yt\\venv\\lib\\site-packages (from typer<0.8.0,>=0.3.0->spacy) (8.1.3)\n",
      "Requirement already satisfied: MarkupSafe>=2.0 in c:\\users\\alsvi\\notebooks\\analise_sent_ajuste_hiper_yt\\venv\\lib\\site-packages (from jinja2->spacy) (2.1.2)\n",
      "Note: you may need to restart the kernel to use updated packages.\n",
      "Collecting pt-core-news-sm==3.5.0\n",
      "  Downloading https://github.com/explosion/spacy-models/releases/download/pt_core_news_sm-3.5.0/pt_core_news_sm-3.5.0-py3-none-any.whl (13.0 MB)\n",
      "     ---------------------------------------- 0.0/13.0 MB ? eta -:--:--\n",
      "     ---------------------------------------- 0.0/13.0 MB ? eta -:--:--\n",
      "     ---------------------------------------- 0.0/13.0 MB ? eta -:--:--\n",
      "     --------------------------------------- 0.0/13.0 MB 281.8 kB/s eta 0:00:46\n",
      "     --------------------------------------- 0.0/13.0 MB 281.8 kB/s eta 0:00:46\n",
      "     --------------------------------------- 0.1/13.0 MB 403.5 kB/s eta 0:00:32\n",
      "     --------------------------------------- 0.1/13.0 MB 403.5 kB/s eta 0:00:32\n",
      "     --------------------------------------- 0.2/13.0 MB 459.5 kB/s eta 0:00:28\n",
      "     --------------------------------------- 0.2/13.0 MB 459.5 kB/s eta 0:00:28\n",
      "      -------------------------------------- 0.3/13.0 MB 583.8 kB/s eta 0:00:22\n",
      "      -------------------------------------- 0.3/13.0 MB 583.8 kB/s eta 0:00:22\n",
      "      -------------------------------------- 0.3/13.0 MB 583.8 kB/s eta 0:00:22\n",
      "     - ------------------------------------- 0.4/13.0 MB 655.7 kB/s eta 0:00:20\n",
      "     - ------------------------------------- 0.4/13.0 MB 655.7 kB/s eta 0:00:20\n",
      "     - ------------------------------------- 0.6/13.0 MB 808.8 kB/s eta 0:00:16\n",
      "     - ------------------------------------- 0.6/13.0 MB 808.8 kB/s eta 0:00:16\n",
      "     -- ------------------------------------- 0.8/13.0 MB 1.1 MB/s eta 0:00:12\n",
      "     -- ------------------------------------- 0.8/13.0 MB 1.1 MB/s eta 0:00:12\n",
      "     --- ------------------------------------ 1.1/13.0 MB 1.3 MB/s eta 0:00:10\n",
      "     --- ------------------------------------ 1.2/13.0 MB 1.3 MB/s eta 0:00:09\n",
      "     --- ------------------------------------ 1.2/13.0 MB 1.3 MB/s eta 0:00:09\n",
      "     ----- ---------------------------------- 1.7/13.0 MB 1.7 MB/s eta 0:00:07\n",
      "     ----- ---------------------------------- 1.7/13.0 MB 1.7 MB/s eta 0:00:07\n",
      "     ------- -------------------------------- 2.4/13.0 MB 2.1 MB/s eta 0:00:05\n",
      "     ------- -------------------------------- 2.4/13.0 MB 2.1 MB/s eta 0:00:05\n",
      "     -------- ------------------------------- 2.9/13.0 MB 2.4 MB/s eta 0:00:05\n",
      "     ---------- ----------------------------- 3.3/13.0 MB 2.7 MB/s eta 0:00:04\n",
      "     ---------- ----------------------------- 3.3/13.0 MB 2.7 MB/s eta 0:00:04\n",
      "     ------------ --------------------------- 4.2/13.0 MB 3.2 MB/s eta 0:00:03\n",
      "     ------------ --------------------------- 4.2/13.0 MB 3.2 MB/s eta 0:00:03\n",
      "     -------------- ------------------------- 4.8/13.0 MB 3.3 MB/s eta 0:00:03\n",
      "     ------------------ --------------------- 5.9/13.0 MB 4.0 MB/s eta 0:00:02\n",
      "     ------------------ --------------------- 5.9/13.0 MB 4.0 MB/s eta 0:00:02\n",
      "     ------------------------ --------------- 8.1/13.0 MB 5.1 MB/s eta 0:00:01\n",
      "     ------------------------- -------------- 8.2/13.0 MB 5.2 MB/s eta 0:00:01\n",
      "     ------------------------- -------------- 8.4/13.0 MB 5.1 MB/s eta 0:00:01\n",
      "     ------------------------- -------------- 8.4/13.0 MB 5.1 MB/s eta 0:00:01\n",
      "     -------------------------- ------------- 8.7/13.0 MB 5.0 MB/s eta 0:00:01\n",
      "     ------------------------------- -------- 10.3/13.0 MB 6.4 MB/s eta 0:00:01\n",
      "     ---------------------------------- ---- 11.3/13.0 MB 10.6 MB/s eta 0:00:01\n",
      "     ------------------------------------- - 12.6/13.0 MB 12.6 MB/s eta 0:00:01\n",
      "     ------------------------------------- - 12.6/13.0 MB 12.6 MB/s eta 0:00:01\n",
      "     --------------------------------------  13.0/13.0 MB 13.1 MB/s eta 0:00:01\n",
      "     --------------------------------------- 13.0/13.0 MB 12.3 MB/s eta 0:00:00\n",
      "Requirement already satisfied: spacy<3.6.0,>=3.5.0 in c:\\users\\alsvi\\notebooks\\analise_sent_ajuste_hiper_yt\\venv\\lib\\site-packages (from pt-core-news-sm==3.5.0) (3.5.0)\n",
      "Requirement already satisfied: smart-open<7.0.0,>=5.2.1 in c:\\users\\alsvi\\notebooks\\analise_sent_ajuste_hiper_yt\\venv\\lib\\site-packages (from spacy<3.6.0,>=3.5.0->pt-core-news-sm==3.5.0) (6.3.0)\n",
      "Requirement already satisfied: thinc<8.2.0,>=8.1.0 in c:\\users\\alsvi\\notebooks\\analise_sent_ajuste_hiper_yt\\venv\\lib\\site-packages (from spacy<3.6.0,>=3.5.0->pt-core-news-sm==3.5.0) (8.1.7)\n",
      "Requirement already satisfied: srsly<3.0.0,>=2.4.3 in c:\\users\\alsvi\\notebooks\\analise_sent_ajuste_hiper_yt\\venv\\lib\\site-packages (from spacy<3.6.0,>=3.5.0->pt-core-news-sm==3.5.0) (2.4.5)\n",
      "Requirement already satisfied: cymem<2.1.0,>=2.0.2 in c:\\users\\alsvi\\notebooks\\analise_sent_ajuste_hiper_yt\\venv\\lib\\site-packages (from spacy<3.6.0,>=3.5.0->pt-core-news-sm==3.5.0) (2.0.7)\n",
      "Requirement already satisfied: typer<0.8.0,>=0.3.0 in c:\\users\\alsvi\\notebooks\\analise_sent_ajuste_hiper_yt\\venv\\lib\\site-packages (from spacy<3.6.0,>=3.5.0->pt-core-news-sm==3.5.0) (0.7.0)\n",
      "Requirement already satisfied: wasabi<1.2.0,>=0.9.1 in c:\\users\\alsvi\\notebooks\\analise_sent_ajuste_hiper_yt\\venv\\lib\\site-packages (from spacy<3.6.0,>=3.5.0->pt-core-news-sm==3.5.0) (1.1.1)\n",
      "Requirement already satisfied: pathy>=0.10.0 in c:\\users\\alsvi\\notebooks\\analise_sent_ajuste_hiper_yt\\venv\\lib\\site-packages (from spacy<3.6.0,>=3.5.0->pt-core-news-sm==3.5.0) (0.10.1)\n",
      "Requirement already satisfied: langcodes<4.0.0,>=3.2.0 in c:\\users\\alsvi\\notebooks\\analise_sent_ajuste_hiper_yt\\venv\\lib\\site-packages (from spacy<3.6.0,>=3.5.0->pt-core-news-sm==3.5.0) (3.3.0)\n",
      "Requirement already satisfied: spacy-loggers<2.0.0,>=1.0.0 in c:\\users\\alsvi\\notebooks\\analise_sent_ajuste_hiper_yt\\venv\\lib\\site-packages (from spacy<3.6.0,>=3.5.0->pt-core-news-sm==3.5.0) (1.0.4)\n",
      "Requirement already satisfied: tqdm<5.0.0,>=4.38.0 in c:\\users\\alsvi\\notebooks\\analise_sent_ajuste_hiper_yt\\venv\\lib\\site-packages (from spacy<3.6.0,>=3.5.0->pt-core-news-sm==3.5.0) (4.64.1)\n",
      "Requirement already satisfied: jinja2 in c:\\users\\alsvi\\notebooks\\analise_sent_ajuste_hiper_yt\\venv\\lib\\site-packages (from spacy<3.6.0,>=3.5.0->pt-core-news-sm==3.5.0) (3.1.2)\n",
      "Requirement already satisfied: murmurhash<1.1.0,>=0.28.0 in c:\\users\\alsvi\\notebooks\\analise_sent_ajuste_hiper_yt\\venv\\lib\\site-packages (from spacy<3.6.0,>=3.5.0->pt-core-news-sm==3.5.0) (1.0.9)\n",
      "Requirement already satisfied: setuptools in c:\\users\\alsvi\\notebooks\\analise_sent_ajuste_hiper_yt\\venv\\lib\\site-packages (from spacy<3.6.0,>=3.5.0->pt-core-news-sm==3.5.0) (67.4.0)\n",
      "Requirement already satisfied: packaging>=20.0 in c:\\users\\alsvi\\notebooks\\analise_sent_ajuste_hiper_yt\\venv\\lib\\site-packages (from spacy<3.6.0,>=3.5.0->pt-core-news-sm==3.5.0) (23.0)\n",
      "Requirement already satisfied: pydantic!=1.8,!=1.8.1,<1.11.0,>=1.7.4 in c:\\users\\alsvi\\notebooks\\analise_sent_ajuste_hiper_yt\\venv\\lib\\site-packages (from spacy<3.6.0,>=3.5.0->pt-core-news-sm==3.5.0) (1.10.5)\n",
      "Requirement already satisfied: catalogue<2.1.0,>=2.0.6 in c:\\users\\alsvi\\notebooks\\analise_sent_ajuste_hiper_yt\\venv\\lib\\site-packages (from spacy<3.6.0,>=3.5.0->pt-core-news-sm==3.5.0) (2.0.8)\n",
      "Requirement already satisfied: preshed<3.1.0,>=3.0.2 in c:\\users\\alsvi\\notebooks\\analise_sent_ajuste_hiper_yt\\venv\\lib\\site-packages (from spacy<3.6.0,>=3.5.0->pt-core-news-sm==3.5.0) (3.0.8)\n",
      "Requirement already satisfied: spacy-legacy<3.1.0,>=3.0.11 in c:\\users\\alsvi\\notebooks\\analise_sent_ajuste_hiper_yt\\venv\\lib\\site-packages (from spacy<3.6.0,>=3.5.0->pt-core-news-sm==3.5.0) (3.0.12)\n",
      "Requirement already satisfied: requests<3.0.0,>=2.13.0 in c:\\users\\alsvi\\notebooks\\analise_sent_ajuste_hiper_yt\\venv\\lib\\site-packages (from spacy<3.6.0,>=3.5.0->pt-core-news-sm==3.5.0) (2.28.2)\n",
      "Requirement already satisfied: numpy>=1.15.0 in c:\\users\\alsvi\\notebooks\\analise_sent_ajuste_hiper_yt\\venv\\lib\\site-packages (from spacy<3.6.0,>=3.5.0->pt-core-news-sm==3.5.0) (1.24.2)\n",
      "Requirement already satisfied: typing-extensions>=4.2.0 in c:\\users\\alsvi\\notebooks\\analise_sent_ajuste_hiper_yt\\venv\\lib\\site-packages (from pydantic!=1.8,!=1.8.1,<1.11.0,>=1.7.4->spacy<3.6.0,>=3.5.0->pt-core-news-sm==3.5.0) (4.5.0)\n",
      "Requirement already satisfied: certifi>=2017.4.17 in c:\\users\\alsvi\\notebooks\\analise_sent_ajuste_hiper_yt\\venv\\lib\\site-packages (from requests<3.0.0,>=2.13.0->spacy<3.6.0,>=3.5.0->pt-core-news-sm==3.5.0) (2022.12.7)\n",
      "Requirement already satisfied: charset-normalizer<4,>=2 in c:\\users\\alsvi\\notebooks\\analise_sent_ajuste_hiper_yt\\venv\\lib\\site-packages (from requests<3.0.0,>=2.13.0->spacy<3.6.0,>=3.5.0->pt-core-news-sm==3.5.0) (3.0.1)\n",
      "Requirement already satisfied: idna<4,>=2.5 in c:\\users\\alsvi\\notebooks\\analise_sent_ajuste_hiper_yt\\venv\\lib\\site-packages (from requests<3.0.0,>=2.13.0->spacy<3.6.0,>=3.5.0->pt-core-news-sm==3.5.0) (3.4)\n",
      "Requirement already satisfied: urllib3<1.27,>=1.21.1 in c:\\users\\alsvi\\notebooks\\analise_sent_ajuste_hiper_yt\\venv\\lib\\site-packages (from requests<3.0.0,>=2.13.0->spacy<3.6.0,>=3.5.0->pt-core-news-sm==3.5.0) (1.26.14)\n",
      "Requirement already satisfied: confection<1.0.0,>=0.0.1 in c:\\users\\alsvi\\notebooks\\analise_sent_ajuste_hiper_yt\\venv\\lib\\site-packages (from thinc<8.2.0,>=8.1.0->spacy<3.6.0,>=3.5.0->pt-core-news-sm==3.5.0) (0.0.4)\n",
      "Requirement already satisfied: blis<0.8.0,>=0.7.8 in c:\\users\\alsvi\\notebooks\\analise_sent_ajuste_hiper_yt\\venv\\lib\\site-packages (from thinc<8.2.0,>=8.1.0->spacy<3.6.0,>=3.5.0->pt-core-news-sm==3.5.0) (0.7.9)\n",
      "Requirement already satisfied: colorama in c:\\users\\alsvi\\notebooks\\analise_sent_ajuste_hiper_yt\\venv\\lib\\site-packages (from tqdm<5.0.0,>=4.38.0->spacy<3.6.0,>=3.5.0->pt-core-news-sm==3.5.0) (0.4.6)\n",
      "Requirement already satisfied: click<9.0.0,>=7.1.1 in c:\\users\\alsvi\\notebooks\\analise_sent_ajuste_hiper_yt\\venv\\lib\\site-packages (from typer<0.8.0,>=0.3.0->spacy<3.6.0,>=3.5.0->pt-core-news-sm==3.5.0) (8.1.3)\n",
      "Requirement already satisfied: MarkupSafe>=2.0 in c:\\users\\alsvi\\notebooks\\analise_sent_ajuste_hiper_yt\\venv\\lib\\site-packages (from jinja2->spacy<3.6.0,>=3.5.0->pt-core-news-sm==3.5.0) (2.1.2)\n",
      "\u001b[38;5;2m✔ Download and installation successful\u001b[0m\n",
      "You can now load the package via spacy.load('pt_core_news_sm')\n"
     ]
    }
   ],
   "source": [
    "%pip install -U pip setuptools wheel\n",
    "%pip install -U spacy\n",
    "!python -m spacy download pt_core_news_sm"
   ]
  },
  {
   "cell_type": "code",
   "execution_count": 101,
   "metadata": {},
   "outputs": [],
   "source": [
    "import spacy\n",
    "nlp = spacy.load('pt_core_news_sm')"
   ]
  },
  {
   "cell_type": "code",
   "execution_count": 102,
   "metadata": {},
   "outputs": [
    {
     "name": "stderr",
     "output_type": "stream",
     "text": [
      "C:\\Users\\alsvi\\AppData\\Local\\Temp\\ipykernel_3376\\1740279429.py:1: SettingWithCopyWarning: \n",
      "A value is trying to be set on a copy of a slice from a DataFrame.\n",
      "Try using .loc[row_indexer,col_indexer] = value instead\n",
      "\n",
      "See the caveats in the documentation: https://pandas.pydata.org/pandas-docs/stable/user_guide/indexing.html#returning-a-view-versus-a-copy\n",
      "  tweet_df['text_lemma'] = tweet_df['text_clean'].apply(lambda row: \" \".join([w.lemma_ for w in nlp(row)]))\n",
      "C:\\Users\\alsvi\\AppData\\Local\\Temp\\ipykernel_3376\\1740279429.py:2: SettingWithCopyWarning: \n",
      "A value is trying to be set on a copy of a slice from a DataFrame.\n",
      "Try using .loc[row_indexer,col_indexer] = value instead\n",
      "\n",
      "See the caveats in the documentation: https://pandas.pydata.org/pandas-docs/stable/user_guide/indexing.html#returning-a-view-versus-a-copy\n",
      "  tweet_df['text_lemma'] = tweet_df['text_lemma'].apply(remove_caracteres)\n"
     ]
    },
    {
     "data": {
      "text/html": [
       "<div>\n",
       "<style scoped>\n",
       "    .dataframe tbody tr th:only-of-type {\n",
       "        vertical-align: middle;\n",
       "    }\n",
       "\n",
       "    .dataframe tbody tr th {\n",
       "        vertical-align: top;\n",
       "    }\n",
       "\n",
       "    .dataframe thead th {\n",
       "        text-align: right;\n",
       "    }\n",
       "</style>\n",
       "<table border=\"1\" class=\"dataframe\">\n",
       "  <thead>\n",
       "    <tr style=\"text-align: right;\">\n",
       "      <th></th>\n",
       "      <th>text</th>\n",
       "      <th>trend_t</th>\n",
       "      <th>sentiment</th>\n",
       "      <th>text_clean</th>\n",
       "      <th>text_lemma</th>\n",
       "    </tr>\n",
       "  </thead>\n",
       "  <tbody>\n",
       "    <tr>\n",
       "      <th>0</th>\n",
       "      <td>Como atuam\\n#MoonlightChickenEP5 \\n#HEARTLIMING https://t.co/Tbp1Gdy7ll</td>\n",
       "      <td>MoonlightChickenEP5</td>\n",
       "      <td>1</td>\n",
       "      <td>atuam moonlightchickenep heartliming</td>\n",
       "      <td>atuar moonlightchickenep heartliming</td>\n",
       "    </tr>\n",
       "    <tr>\n",
       "      <th>1</th>\n",
       "      <td>Eles me fazem acreditar que, relacionamento entre amigos, não funciona, mais cedo ou mais tarde, vai desmoronar 😭.… https://t.co/P0Cjt7iTyU</td>\n",
       "      <td>MoonlightChickenEP5</td>\n",
       "      <td>2</td>\n",
       "      <td>fazem acreditar relacionamento amigos funciona cedo tarde vai desmoronar</td>\n",
       "      <td>fazer acreditar relacionamento amigo funcionar cedo tarde ir desmoronar</td>\n",
       "    </tr>\n",
       "    <tr>\n",
       "      <th>2</th>\n",
       "      <td>pq eu sinto q isso aqui vai dar muito briga?????? #MoonlightChickenEP5 https://t.co/WHzEhLJK62</td>\n",
       "      <td>MoonlightChickenEP5</td>\n",
       "      <td>1</td>\n",
       "      <td>pq sinto q aqui vai dar briga moonlightchickenep</td>\n",
       "      <td>pq sinto q aqui ir dar briga moonlightchickeneurpr</td>\n",
       "    </tr>\n",
       "    <tr>\n",
       "      <th>3</th>\n",
       "      <td>O nome salvo dos dois nos Contatos. Fofos.🤏🏽\\n#MoonlightChickenEP5 https://t.co/u85vXyh2nM</td>\n",
       "      <td>MoonlightChickenEP5</td>\n",
       "      <td>1</td>\n",
       "      <td>nome salvo dois contatos fofos moonlightchickenep</td>\n",
       "      <td>nome salvo dois contato fofo moonlightchickenep</td>\n",
       "    </tr>\n",
       "    <tr>\n",
       "      <th>4</th>\n",
       "      <td>\"Os peixes grandes sempre comem os peixes pequenos\"\\n\"O importante e ele ter dinheiro, pq quem tem dinheiro sempre v… https://t.co/oGCAXGEqJ0</td>\n",
       "      <td>MoonlightChickenEP5</td>\n",
       "      <td>2</td>\n",
       "      <td>peixes grandes sempre comem peixes pequenos importante ter dinheiro pq dinheiro sempre v</td>\n",
       "      <td>peixe grande sempre comer peixe pequeno importante ter dinheiro pq dinheiro sempre v</td>\n",
       "    </tr>\n",
       "  </tbody>\n",
       "</table>\n",
       "</div>"
      ],
      "text/plain": [
       "                                                                                                                                            text  \\\n",
       "0                                                                        Como atuam\\n#MoonlightChickenEP5 \\n#HEARTLIMING https://t.co/Tbp1Gdy7ll   \n",
       "1    Eles me fazem acreditar que, relacionamento entre amigos, não funciona, mais cedo ou mais tarde, vai desmoronar 😭.… https://t.co/P0Cjt7iTyU   \n",
       "2                                                 pq eu sinto q isso aqui vai dar muito briga?????? #MoonlightChickenEP5 https://t.co/WHzEhLJK62   \n",
       "3                                                     O nome salvo dos dois nos Contatos. Fofos.🤏🏽\\n#MoonlightChickenEP5 https://t.co/u85vXyh2nM   \n",
       "4  \"Os peixes grandes sempre comem os peixes pequenos\"\\n\"O importante e ele ter dinheiro, pq quem tem dinheiro sempre v… https://t.co/oGCAXGEqJ0   \n",
       "\n",
       "               trend_t  sentiment  \\\n",
       "0  MoonlightChickenEP5          1   \n",
       "1  MoonlightChickenEP5          2   \n",
       "2  MoonlightChickenEP5          1   \n",
       "3  MoonlightChickenEP5          1   \n",
       "4  MoonlightChickenEP5          2   \n",
       "\n",
       "                                                                                 text_clean  \\\n",
       "0                                                      atuam moonlightchickenep heartliming   \n",
       "1                  fazem acreditar relacionamento amigos funciona cedo tarde vai desmoronar   \n",
       "2                                          pq sinto q aqui vai dar briga moonlightchickenep   \n",
       "3                                         nome salvo dois contatos fofos moonlightchickenep   \n",
       "4  peixes grandes sempre comem peixes pequenos importante ter dinheiro pq dinheiro sempre v   \n",
       "\n",
       "                                                                             text_lemma  \n",
       "0                                                  atuar moonlightchickenep heartliming  \n",
       "1               fazer acreditar relacionamento amigo funcionar cedo tarde ir desmoronar  \n",
       "2                                    pq sinto q aqui ir dar briga moonlightchickeneurpr  \n",
       "3                                       nome salvo dois contato fofo moonlightchickenep  \n",
       "4  peixe grande sempre comer peixe pequeno importante ter dinheiro pq dinheiro sempre v  "
      ]
     },
     "execution_count": 102,
     "metadata": {},
     "output_type": "execute_result"
    }
   ],
   "source": [
    "tweet_df['text_lemma'] = tweet_df['text_clean'].apply(lambda row: \" \".join([w.lemma_ for w in nlp(row)]))\n",
    "tweet_df['text_lemma'] = tweet_df['text_lemma'].apply(remove_caracteres)\n",
    "tweet_df.head()"
   ]
  },
  {
   "attachments": {},
   "cell_type": "markdown",
   "metadata": {},
   "source": [
    "# Trabalhando no equilibrio dos dados"
   ]
  },
  {
   "attachments": {},
   "cell_type": "markdown",
   "metadata": {},
   "source": [
    "## Iniciando o trabalho de balanceamento dos dados"
   ]
  },
  {
   "cell_type": "code",
   "execution_count": 103,
   "metadata": {},
   "outputs": [
    {
     "data": {
      "text/plain": [
       "[6029, 6435, 4912]"
      ]
     },
     "execution_count": 103,
     "metadata": {},
     "output_type": "execute_result"
    }
   ],
   "source": [
    "# criando a lista sentimentos (com as quantidades das classes)\n",
    "sentimentos = []\n",
    "sentimentos.append(tweet_df.loc[tweet_df['sentiment'] == 0]['sentiment'].count())\n",
    "sentimentos.append(tweet_df.loc[tweet_df['sentiment'] == 1]['sentiment'].count())\n",
    "sentimentos.append(tweet_df.loc[tweet_df['sentiment'] == 2]['sentiment'].count())\n",
    "\n",
    "sentimentos"
   ]
  },
  {
   "cell_type": "code",
   "execution_count": 104,
   "metadata": {},
   "outputs": [
    {
     "data": {
      "text/plain": [
       "[4912, 6029, 6435]"
      ]
     },
     "execution_count": 104,
     "metadata": {},
     "output_type": "execute_result"
    }
   ],
   "source": [
    "# colacando a lista sentimento em ordem (minoria, meio, maioria)\n",
    "sentimentos.sort()\n",
    "sentimentos"
   ]
  },
  {
   "cell_type": "code",
   "execution_count": 105,
   "metadata": {},
   "outputs": [],
   "source": [
    "# instanciando as classes de sentimentos\n",
    "sent = [0, 0, 0]\n",
    "for i in range(len(sentimentos)):\n",
    "    for j in range(len(sentimentos)):\n",
    "        if sentimentos[i] == tweet_df.loc[tweet_df['sentiment'] == j]['sentiment'].count():\n",
    "            sent[i] = tweet_df.loc[tweet_df['sentiment'] == j]\n",
    "\n",
    "minoria = sent[0]\n",
    "meio = sent[1]\n",
    "maioria = sent[2]"
   ]
  },
  {
   "cell_type": "code",
   "execution_count": 106,
   "metadata": {},
   "outputs": [
    {
     "name": "stdout",
     "output_type": "stream",
     "text": [
      "Maioria \n",
      "6435\n",
      "\n",
      "Meio \n",
      "6029\n",
      "\n",
      "Minoria \n",
      "4912\n"
     ]
    }
   ],
   "source": [
    "print('Maioria \\n{}\\n'.format(maioria['sentiment'].count()))\n",
    "print('Meio \\n{}\\n'.format(meio['sentiment'].count()))\n",
    "print('Minoria \\n{}'.format(minoria['sentiment'].count()))"
   ]
  },
  {
   "attachments": {},
   "cell_type": "markdown",
   "metadata": {},
   "source": [
    "# Igualar a quantidade de tweets entre positivo, negativo e neutro"
   ]
  },
  {
   "attachments": {},
   "cell_type": "markdown",
   "metadata": {},
   "source": [
    "### Undersampling (Criando datasets reorganizados para minoria)"
   ]
  },
  {
   "cell_type": "code",
   "execution_count": 107,
   "metadata": {},
   "outputs": [],
   "source": [
    "from sklearn.utils import resample\n",
    "\n",
    "maior_menor = resample(maioria, replace=True, n_samples=len(minoria), random_state=123)\n",
    "meio_menor = resample(meio, replace=True, n_samples=len(minoria), random_state=123)"
   ]
  },
  {
   "cell_type": "code",
   "execution_count": 108,
   "metadata": {},
   "outputs": [
    {
     "name": "stdout",
     "output_type": "stream",
     "text": [
      "text          4912\n",
      "trend_t       4912\n",
      "sentiment     4912\n",
      "text_clean    4912\n",
      "text_lemma    4912\n",
      "dtype: int64 text          4912\n",
      "trend_t       4912\n",
      "sentiment     4912\n",
      "text_clean    4912\n",
      "text_lemma    4912\n",
      "dtype: int64 text          4912\n",
      "trend_t       4912\n",
      "sentiment     4912\n",
      "text_clean    4912\n",
      "text_lemma    4912\n",
      "dtype: int64\n"
     ]
    }
   ],
   "source": [
    "print(minoria.count(), meio_menor.count(), maior_menor.count())"
   ]
  },
  {
   "cell_type": "code",
   "execution_count": 109,
   "metadata": {},
   "outputs": [],
   "source": [
    "# juntando os dataframes\n",
    "tweets_df_equilibrado_menor = pd.concat([minoria, meio_menor, maior_menor])\n",
    "\n",
    "# resetando o index\n",
    "tweets_df_equilibrado_menor = tweets_df_equilibrado_menor.reset_index()\n",
    "\n",
    "# removendo as colunas Unnamed: 0 e index\n",
    "tweets_df_equilibrado_menor.drop(columns=['index'], inplace=True)"
   ]
  },
  {
   "cell_type": "code",
   "execution_count": 110,
   "metadata": {},
   "outputs": [
    {
     "data": {
      "text/html": [
       "<div>\n",
       "<style scoped>\n",
       "    .dataframe tbody tr th:only-of-type {\n",
       "        vertical-align: middle;\n",
       "    }\n",
       "\n",
       "    .dataframe tbody tr th {\n",
       "        vertical-align: top;\n",
       "    }\n",
       "\n",
       "    .dataframe thead th {\n",
       "        text-align: right;\n",
       "    }\n",
       "</style>\n",
       "<table border=\"1\" class=\"dataframe\">\n",
       "  <thead>\n",
       "    <tr style=\"text-align: right;\">\n",
       "      <th></th>\n",
       "      <th>text</th>\n",
       "      <th>trend_t</th>\n",
       "      <th>text_clean</th>\n",
       "      <th>text_lemma</th>\n",
       "    </tr>\n",
       "    <tr>\n",
       "      <th>sentiment</th>\n",
       "      <th></th>\n",
       "      <th></th>\n",
       "      <th></th>\n",
       "      <th></th>\n",
       "    </tr>\n",
       "  </thead>\n",
       "  <tbody>\n",
       "    <tr>\n",
       "      <th>0</th>\n",
       "      <td>4912</td>\n",
       "      <td>4912</td>\n",
       "      <td>4912</td>\n",
       "      <td>4912</td>\n",
       "    </tr>\n",
       "    <tr>\n",
       "      <th>1</th>\n",
       "      <td>4912</td>\n",
       "      <td>4912</td>\n",
       "      <td>4912</td>\n",
       "      <td>4912</td>\n",
       "    </tr>\n",
       "    <tr>\n",
       "      <th>2</th>\n",
       "      <td>4912</td>\n",
       "      <td>4912</td>\n",
       "      <td>4912</td>\n",
       "      <td>4912</td>\n",
       "    </tr>\n",
       "  </tbody>\n",
       "</table>\n",
       "</div>"
      ],
      "text/plain": [
       "           text  trend_t  text_clean  text_lemma\n",
       "sentiment                                       \n",
       "0          4912     4912        4912        4912\n",
       "1          4912     4912        4912        4912\n",
       "2          4912     4912        4912        4912"
      ]
     },
     "execution_count": 110,
     "metadata": {},
     "output_type": "execute_result"
    }
   ],
   "source": [
    "tweets_df_equilibrado_menor.groupby(['sentiment']).count()"
   ]
  },
  {
   "attachments": {},
   "cell_type": "markdown",
   "metadata": {},
   "source": [
    "# Machine Learning - Utils"
   ]
  },
  {
   "cell_type": "code",
   "execution_count": 111,
   "metadata": {},
   "outputs": [
    {
     "name": "stdout",
     "output_type": "stream",
     "text": [
      "Requirement already satisfied: scikit-learn in c:\\users\\alsvi\\notebooks\\analise_sent_ajuste_hiper_yt\\venv\\lib\\site-packages (1.2.1)\n",
      "Requirement already satisfied: numpy>=1.17.3 in c:\\users\\alsvi\\notebooks\\analise_sent_ajuste_hiper_yt\\venv\\lib\\site-packages (from scikit-learn) (1.24.2)\n",
      "Requirement already satisfied: joblib>=1.1.1 in c:\\users\\alsvi\\notebooks\\analise_sent_ajuste_hiper_yt\\venv\\lib\\site-packages (from scikit-learn) (1.2.0)\n",
      "Requirement already satisfied: scipy>=1.3.2 in c:\\users\\alsvi\\notebooks\\analise_sent_ajuste_hiper_yt\\venv\\lib\\site-packages (from scikit-learn) (1.10.1)\n",
      "Requirement already satisfied: threadpoolctl>=2.0.0 in c:\\users\\alsvi\\notebooks\\analise_sent_ajuste_hiper_yt\\venv\\lib\\site-packages (from scikit-learn) (3.1.0)\n",
      "Note: you may need to restart the kernel to use updated packages.\n"
     ]
    }
   ],
   "source": [
    "%pip install scikit-learn"
   ]
  },
  {
   "cell_type": "code",
   "execution_count": 112,
   "metadata": {},
   "outputs": [],
   "source": [
    "from sklearn.model_selection import train_test_split\n",
    "from sklearn.pipeline import Pipeline\n",
    "\n",
    "# Vetorizadores\n",
    "from sklearn.feature_extraction.text import CountVectorizer\n",
    "from sklearn.feature_extraction.text import TfidfVectorizer\n",
    "\n",
    "# Classificadores\n",
    "from sklearn.linear_model import LogisticRegression\n",
    "from sklearn.linear_model import PassiveAggressiveClassifier\n",
    "from sklearn.ensemble import RandomForestClassifier\n",
    "from sklearn.linear_model import SGDClassifier\n",
    "from sklearn.svm import SVC"
   ]
  },
  {
   "cell_type": "code",
   "execution_count": 113,
   "metadata": {},
   "outputs": [],
   "source": [
    "# Tokenização especial para tweets\n",
    "from nltk.tokenize import TweetTokenizer\n",
    "\n",
    "tweet_tokenizer = TweetTokenizer()"
   ]
  },
  {
   "cell_type": "code",
   "execution_count": 114,
   "metadata": {},
   "outputs": [],
   "source": [
    "def escolher_pipeline(pipe):\n",
    "    ''' Função para escolher os pipelines dos modelos a serem treinados '''\n",
    "    \n",
    "    if(pipe == 1):\n",
    "        modelo1 = Pipeline([\n",
    "            ('countVectorizer', CountVectorizer(analyzer='word', tokenizer=tweet_tokenizer.tokenize)),\n",
    "            ('modelo', LogisticRegression(solver='liblinear'))\n",
    "        ])\n",
    "        \n",
    "        parameters1 = {'modelo__penalty':['l1', 'l2'], \n",
    "                'modelo__C':np.logspace(-3,3,7)}\n",
    "        \n",
    "        return modelo1, parameters1\n",
    "    \n",
    "    elif(pipe == 2):\n",
    "        modelo2 = Pipeline([\n",
    "            ('tfidfVectorizer', TfidfVectorizer(analyzer='word', tokenizer=tweet_tokenizer.tokenize)),\n",
    "            ('modelo', LogisticRegression(solver='liblinear'))\n",
    "        ])\n",
    "        \n",
    "        parameters2 = {'modelo__penalty':['l1', 'l2'], \n",
    "                'modelo__C':np.logspace(-3,3,7)}\n",
    "        \n",
    "        return modelo2, parameters2\n",
    "    \n",
    "    elif(pipe == 3):\n",
    "        modelo3 = Pipeline([\n",
    "            ('countVectorizer', CountVectorizer(analyzer='word', tokenizer=tweet_tokenizer.tokenize)),\n",
    "            ('modelo', PassiveAggressiveClassifier())\n",
    "        ])\n",
    "        \n",
    "        parameters3 = {'modelo__C':[0.003, 0.01, 0.03, 0.1], \n",
    "                'modelo__loss':['hinge', 'squared_hinge']}\n",
    "        \n",
    "        return modelo3, parameters3\n",
    "    \n",
    "    elif(pipe == 4):\n",
    "        modelo4 = Pipeline([\n",
    "            ('tfidfVectorizer', TfidfVectorizer(analyzer='word', tokenizer=tweet_tokenizer.tokenize)),\n",
    "            ('modelo', PassiveAggressiveClassifier())\n",
    "        ])\n",
    "        \n",
    "        parameters4 = {'modelo__C':[0.003, 0.01, 0.03, 0.1], \n",
    "                'modelo__loss':['hinge', 'squared_hinge']}\n",
    "        \n",
    "        return modelo4, parameters4\n",
    "    \n",
    "    elif(pipe == 5):\n",
    "        modelo5 = Pipeline([\n",
    "            ('countVectorizer', CountVectorizer(analyzer='word', tokenizer=tweet_tokenizer.tokenize)),\n",
    "            ('modelo', RandomForestClassifier())\n",
    "        ])\n",
    "        \n",
    "        parameters5 = {'modelo__n_estimators':[1, 5, 10]}\n",
    "        \n",
    "        return modelo5, parameters5\n",
    "    \n",
    "    elif(pipe == 6):\n",
    "        modelo6 = Pipeline([\n",
    "            ('tfidfVectorizer', TfidfVectorizer(analyzer='word', tokenizer=tweet_tokenizer.tokenize)),\n",
    "            ('modelo', RandomForestClassifier())\n",
    "        ])\n",
    "        \n",
    "        parameters6 = {'modelo__n_estimators':[1, 5, 10]}\n",
    "        \n",
    "        return modelo6, parameters6\n",
    "    \n",
    "    elif(pipe == 7):\n",
    "        modelo7 = Pipeline([\n",
    "            ('countVectorizer', CountVectorizer(analyzer='word', tokenizer=tweet_tokenizer.tokenize)),\n",
    "            ('modelo', SGDClassifier(max_iter=1000))\n",
    "        ])\n",
    "        \n",
    "        parameters7 = {\"modelo__loss\" : [\"hinge\", \"log_loss\", \"squared_hinge\", \"modified_huber\"],\n",
    "                        \"modelo__alpha\" : [0.0001, 0.001, 0.01, 0.1],\n",
    "                        \"modelo__penalty\" : [\"l2\", \"l1\", \"elasticnet\"]}\n",
    "        \n",
    "        return modelo7, parameters7\n",
    "    \n",
    "    elif(pipe == 8):\n",
    "        modelo8 = Pipeline([\n",
    "            ('tfidfVectorizer', TfidfVectorizer(analyzer='word', tokenizer=tweet_tokenizer.tokenize)),\n",
    "            ('modelo', SGDClassifier(max_iter=1000))\n",
    "        ])\n",
    "        \n",
    "        parameters8 = {\"modelo__loss\" : [\"hinge\", \"log_loss\", \"squared_hinge\", \"modified_huber\"],\n",
    "                        \"modelo__alpha\" : [0.0001, 0.001, 0.01, 0.1],\n",
    "                        \"modelo__penalty\" : [\"l2\", \"l1\", \"elasticnet\"]}\n",
    "        \n",
    "        return modelo8, parameters8\n",
    "    \n",
    "    elif(pipe == 9):\n",
    "        modelo9 = Pipeline([\n",
    "            ('countVectorizer', CountVectorizer(analyzer='word', tokenizer=tweet_tokenizer.tokenize)),\n",
    "            ('modelo', SVC())\n",
    "        ])\n",
    "        \n",
    "        parameters9 = {'modelo__C':[1, 10, 100, 1000],\n",
    "                        'modelo__gamma':[1, 0.1, 0.001, 0.0001],\n",
    "                        'modelo__kernel':['linear', 'rbf']}\n",
    "        \n",
    "        return modelo9, parameters9\n",
    "    \n",
    "    elif(pipe == 10):\n",
    "        modelo10 = Pipeline([\n",
    "            ('tfidfVectorizer', TfidfVectorizer(analyzer='word', tokenizer=tweet_tokenizer.tokenize)),\n",
    "            ('modelo', SVC())\n",
    "        ])\n",
    "        \n",
    "        parameters10 = {'modelo__C':[1, 10, 100, 1000],\n",
    "                        'modelo__gamma':[1, 0.1, 0.001, 0.0001],\n",
    "                        'modelo__kernel':['linear', 'rbf']}\n",
    "        \n",
    "        return modelo10, parameters10"
   ]
  },
  {
   "attachments": {},
   "cell_type": "markdown",
   "metadata": {},
   "source": [
    "# Machine Learning - Construindo modelo"
   ]
  },
  {
   "cell_type": "code",
   "execution_count": 115,
   "metadata": {},
   "outputs": [
    {
     "data": {
      "text/plain": [
       "((14736,), (14736,))"
      ]
     },
     "execution_count": 115,
     "metadata": {},
     "output_type": "execute_result"
    }
   ],
   "source": [
    "X = tweets_df_equilibrado_menor['text_lemma']\n",
    "y = tweets_df_equilibrado_menor['sentiment']\n",
    "\n",
    "X.shape, y.shape"
   ]
  },
  {
   "cell_type": "code",
   "execution_count": 116,
   "metadata": {},
   "outputs": [
    {
     "data": {
      "text/plain": [
       "((11052,), (11052,), (3684,), (3684,))"
      ]
     },
     "execution_count": 116,
     "metadata": {},
     "output_type": "execute_result"
    }
   ],
   "source": [
    "#separando os dados em treino e teste\n",
    "X_train, X_test, y_train, y_test = train_test_split(X, y, test_size=0.25, random_state=123)\n",
    "X_train.shape, y_train.shape, X_test.shape, y_test.shape"
   ]
  },
  {
   "cell_type": "code",
   "execution_count": 117,
   "metadata": {},
   "outputs": [],
   "source": [
    "#%pip install searchgrid"
   ]
  },
  {
   "cell_type": "code",
   "execution_count": 118,
   "metadata": {},
   "outputs": [],
   "source": [
    "from sklearn.model_selection import GridSearchCV"
   ]
  },
  {
   "cell_type": "code",
   "execution_count": 119,
   "metadata": {},
   "outputs": [],
   "source": [
    "def formatar_nome_modelo(modelo):\n",
    "    ''' Função que formata o nome do modelo junto com o vetorizador '''\n",
    "    #nome do vetor\n",
    "    vec = str(modelo[0])\n",
    "    fim_vec_name = vec.rfind('(')\n",
    "    vetor = vec[:fim_vec_name]\n",
    "    vetor\n",
    "    \n",
    "    #nome do modelo classifocador\n",
    "    mod = str(modelo[1])\n",
    "    fim_mod_name = mod.rfind('(')\n",
    "    classif = mod[:fim_mod_name]\n",
    "    classif\n",
    "    \n",
    "    return(f'{classif} - {vetor}')"
   ]
  },
  {
   "cell_type": "code",
   "execution_count": 120,
   "metadata": {},
   "outputs": [
    {
     "name": "stdout",
     "output_type": "stream",
     "text": [
      "\n",
      "Fitting 5 folds for each of 14 candidates, totalling 70 fits\n"
     ]
    },
    {
     "name": "stderr",
     "output_type": "stream",
     "text": [
      "c:\\Users\\alsvi\\notebooks\\analise_sent_ajuste_hiper_yt\\venv\\lib\\site-packages\\sklearn\\feature_extraction\\text.py:528: UserWarning: The parameter 'token_pattern' will not be used since 'tokenizer' is not None'\n",
      "  warnings.warn(\n"
     ]
    },
    {
     "name": "stdout",
     "output_type": "stream",
     "text": [
      "------------------------\n",
      "LogisticRegression - CountVectorizer\n",
      "\n",
      "Melhor Parâmetro: {'modelo__C': 10.0, 'modelo__penalty': 'l1'}\n",
      "\n",
      "0.8237407778057471\n",
      "------------------------\n",
      "\n",
      "\n",
      "Fitting 5 folds for each of 14 candidates, totalling 70 fits\n"
     ]
    },
    {
     "name": "stderr",
     "output_type": "stream",
     "text": [
      "c:\\Users\\alsvi\\notebooks\\analise_sent_ajuste_hiper_yt\\venv\\lib\\site-packages\\sklearn\\feature_extraction\\text.py:528: UserWarning: The parameter 'token_pattern' will not be used since 'tokenizer' is not None'\n",
      "  warnings.warn(\n",
      "c:\\Users\\alsvi\\notebooks\\analise_sent_ajuste_hiper_yt\\venv\\lib\\site-packages\\sklearn\\svm\\_base.py:1244: ConvergenceWarning: Liblinear failed to converge, increase the number of iterations.\n",
      "  warnings.warn(\n"
     ]
    },
    {
     "name": "stdout",
     "output_type": "stream",
     "text": [
      "------------------------\n",
      "LogisticRegression - TfidfVectorizer\n",
      "\n",
      "Melhor Parâmetro: {'modelo__C': 10.0, 'modelo__penalty': 'l1'}\n",
      "\n",
      "0.8226550914698411\n",
      "------------------------\n",
      "\n",
      "\n",
      "Fitting 5 folds for each of 8 candidates, totalling 40 fits\n"
     ]
    },
    {
     "name": "stderr",
     "output_type": "stream",
     "text": [
      "c:\\Users\\alsvi\\notebooks\\analise_sent_ajuste_hiper_yt\\venv\\lib\\site-packages\\sklearn\\feature_extraction\\text.py:528: UserWarning: The parameter 'token_pattern' will not be used since 'tokenizer' is not None'\n",
      "  warnings.warn(\n"
     ]
    },
    {
     "name": "stdout",
     "output_type": "stream",
     "text": [
      "------------------------\n",
      "PassiveAggressiveClassifier - CountVectorizer\n",
      "\n",
      "Melhor Parâmetro: {'modelo__C': 0.003, 'modelo__loss': 'squared_hinge'}\n",
      "\n",
      "0.8164127122511668\n",
      "------------------------\n",
      "\n",
      "\n",
      "Fitting 5 folds for each of 8 candidates, totalling 40 fits\n"
     ]
    },
    {
     "name": "stderr",
     "output_type": "stream",
     "text": [
      "c:\\Users\\alsvi\\notebooks\\analise_sent_ajuste_hiper_yt\\venv\\lib\\site-packages\\sklearn\\feature_extraction\\text.py:528: UserWarning: The parameter 'token_pattern' will not be used since 'tokenizer' is not None'\n",
      "  warnings.warn(\n"
     ]
    },
    {
     "name": "stdout",
     "output_type": "stream",
     "text": [
      "------------------------\n",
      "PassiveAggressiveClassifier - TfidfVectorizer\n",
      "\n",
      "Melhor Parâmetro: {'modelo__C': 0.01, 'modelo__loss': 'squared_hinge'}\n",
      "\n",
      "0.8092647416966996\n",
      "------------------------\n",
      "\n",
      "\n",
      "Fitting 5 folds for each of 3 candidates, totalling 15 fits\n"
     ]
    },
    {
     "name": "stderr",
     "output_type": "stream",
     "text": [
      "c:\\Users\\alsvi\\notebooks\\analise_sent_ajuste_hiper_yt\\venv\\lib\\site-packages\\sklearn\\feature_extraction\\text.py:528: UserWarning: The parameter 'token_pattern' will not be used since 'tokenizer' is not None'\n",
      "  warnings.warn(\n"
     ]
    },
    {
     "name": "stdout",
     "output_type": "stream",
     "text": [
      "------------------------\n",
      "RandomForestClassifier - CountVectorizer\n",
      "\n",
      "Melhor Parâmetro: {'modelo__n_estimators': 10}\n",
      "\n",
      "0.7623043155264402\n",
      "------------------------\n",
      "\n",
      "\n",
      "Fitting 5 folds for each of 3 candidates, totalling 15 fits\n"
     ]
    },
    {
     "name": "stderr",
     "output_type": "stream",
     "text": [
      "c:\\Users\\alsvi\\notebooks\\analise_sent_ajuste_hiper_yt\\venv\\lib\\site-packages\\sklearn\\feature_extraction\\text.py:528: UserWarning: The parameter 'token_pattern' will not be used since 'tokenizer' is not None'\n",
      "  warnings.warn(\n"
     ]
    },
    {
     "name": "stdout",
     "output_type": "stream",
     "text": [
      "------------------------\n",
      "RandomForestClassifier - TfidfVectorizer\n",
      "\n",
      "Melhor Parâmetro: {'modelo__n_estimators': 10}\n",
      "\n",
      "0.7497272993322159\n",
      "------------------------\n",
      "\n",
      "\n",
      "Fitting 5 folds for each of 48 candidates, totalling 240 fits\n"
     ]
    },
    {
     "name": "stderr",
     "output_type": "stream",
     "text": [
      "c:\\Users\\alsvi\\notebooks\\analise_sent_ajuste_hiper_yt\\venv\\lib\\site-packages\\sklearn\\feature_extraction\\text.py:528: UserWarning: The parameter 'token_pattern' will not be used since 'tokenizer' is not None'\n",
      "  warnings.warn(\n"
     ]
    },
    {
     "name": "stdout",
     "output_type": "stream",
     "text": [
      "------------------------\n",
      "SGDClassifier - CountVectorizer\n",
      "\n",
      "Melhor Parâmetro: {'modelo__alpha': 0.0001, 'modelo__loss': 'hinge', 'modelo__penalty': 'elasticnet'}\n",
      "\n",
      "0.8205749123571774\n",
      "------------------------\n",
      "\n",
      "\n",
      "Fitting 5 folds for each of 48 candidates, totalling 240 fits\n"
     ]
    },
    {
     "name": "stderr",
     "output_type": "stream",
     "text": [
      "c:\\Users\\alsvi\\notebooks\\analise_sent_ajuste_hiper_yt\\venv\\lib\\site-packages\\sklearn\\feature_extraction\\text.py:528: UserWarning: The parameter 'token_pattern' will not be used since 'tokenizer' is not None'\n",
      "  warnings.warn(\n"
     ]
    },
    {
     "name": "stdout",
     "output_type": "stream",
     "text": [
      "------------------------\n",
      "SGDClassifier - TfidfVectorizer\n",
      "\n",
      "Melhor Parâmetro: {'modelo__alpha': 0.0001, 'modelo__loss': 'modified_huber', 'modelo__penalty': 'elasticnet'}\n",
      "\n",
      "0.8121599325462363\n",
      "------------------------\n",
      "\n",
      "\n",
      "Fitting 5 folds for each of 32 candidates, totalling 160 fits\n"
     ]
    },
    {
     "name": "stderr",
     "output_type": "stream",
     "text": [
      "c:\\Users\\alsvi\\notebooks\\analise_sent_ajuste_hiper_yt\\venv\\lib\\site-packages\\sklearn\\feature_extraction\\text.py:528: UserWarning: The parameter 'token_pattern' will not be used since 'tokenizer' is not None'\n",
      "  warnings.warn(\n"
     ]
    },
    {
     "name": "stdout",
     "output_type": "stream",
     "text": [
      "------------------------\n",
      "SVC - CountVectorizer\n",
      "\n",
      "Melhor Parâmetro: {'modelo__C': 1, 'modelo__gamma': 1, 'modelo__kernel': 'linear'}\n",
      "\n",
      "0.8061880232731857\n",
      "------------------------\n",
      "\n",
      "\n",
      "Fitting 5 folds for each of 32 candidates, totalling 160 fits\n"
     ]
    },
    {
     "name": "stderr",
     "output_type": "stream",
     "text": [
      "c:\\Users\\alsvi\\notebooks\\analise_sent_ajuste_hiper_yt\\venv\\lib\\site-packages\\sklearn\\feature_extraction\\text.py:528: UserWarning: The parameter 'token_pattern' will not be used since 'tokenizer' is not None'\n",
      "  warnings.warn(\n"
     ]
    },
    {
     "name": "stdout",
     "output_type": "stream",
     "text": [
      "------------------------\n",
      "SVC - TfidfVectorizer\n",
      "\n",
      "Melhor Parâmetro: {'modelo__C': 10, 'modelo__gamma': 1, 'modelo__kernel': 'rbf'}\n",
      "\n",
      "0.8046488249824509\n",
      "------------------------\n",
      "\n"
     ]
    }
   ],
   "source": [
    "for i in range(1,11):\n",
    "    modelo = escolher_pipeline(i)[0]\n",
    "    parameters = escolher_pipeline(i)[1]\n",
    "\n",
    "    clf = GridSearchCV(estimator=modelo, param_grid=parameters, cv=5, scoring=\"accuracy\", n_jobs= 4, verbose = 1)\n",
    "    print()\n",
    "    clf.fit(X_train, y_train)\n",
    "    print('-'*24)\n",
    "    print(formatar_nome_modelo(modelo))\n",
    "    print()\n",
    "    print(f'Melhor Parâmetro: {clf.best_params_}')\n",
    "    print()\n",
    "    print(clf.best_score_)\n",
    "    print('-'*24)\n",
    "    print()"
   ]
  }
 ],
 "metadata": {
  "kernelspec": {
   "display_name": "venv",
   "language": "python",
   "name": "python3"
  },
  "language_info": {
   "codemirror_mode": {
    "name": "ipython",
    "version": 3
   },
   "file_extension": ".py",
   "mimetype": "text/x-python",
   "name": "python",
   "nbconvert_exporter": "python",
   "pygments_lexer": "ipython3",
   "version": "3.10.8"
  },
  "orig_nbformat": 4,
  "vscode": {
   "interpreter": {
    "hash": "6aeb61c36045fb93a6a6b2ff8892de9d3a06d7bfa0b29e7a84c423d15e6df9e1"
   }
  }
 },
 "nbformat": 4,
 "nbformat_minor": 2
}
